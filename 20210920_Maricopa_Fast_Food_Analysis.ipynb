{
  "nbformat": 4,
  "nbformat_minor": 0,
  "metadata": {
    "colab": {
      "name": "20210920 Maricopa Fast Food Analysis",
      "provenance": [],
      "collapsed_sections": [
        "1ejDx_WkB8ko",
        "Xd5SCrNJB-wz",
        "s3F3R-pdB__Q",
        "T2MbG9r9CC62",
        "v94a-QdkG3oU"
      ]
    },
    "kernelspec": {
      "name": "python3",
      "display_name": "Python 3"
    },
    "language_info": {
      "name": "python"
    }
  },
  "cells": [
    {
      "cell_type": "markdown",
      "metadata": {
        "id": "-fqoQns317lo"
      },
      "source": [
        "# Setup"
      ]
    },
    {
      "cell_type": "code",
      "metadata": {
        "id": "psm73xcA1wK6"
      },
      "source": [
        "import pandas as pd"
      ],
      "execution_count": null,
      "outputs": []
    },
    {
      "cell_type": "markdown",
      "metadata": {
        "id": "QkZEX6UM19Hj"
      },
      "source": [
        "# Obtain"
      ]
    },
    {
      "cell_type": "markdown",
      "metadata": {
        "id": "OdvSbBvd2pN6"
      },
      "source": [
        "This data was obtained from the Maricopa County Assessor under the search \"Fast Food\". The query has approximately 1342 results, with only 1000 returned due MCA Data Policies. "
      ]
    },
    {
      "cell_type": "code",
      "metadata": {
        "id": "Q83_JJq21_BU"
      },
      "source": [
        "df = pd.read_csv('/content/mca_fast_food_search.csv')"
      ],
      "execution_count": null,
      "outputs": []
    },
    {
      "cell_type": "code",
      "metadata": {
        "colab": {
          "base_uri": "https://localhost:8080/",
          "height": 204
        },
        "id": "11jxRgy34p0B",
        "outputId": "1fa223b6-3552-4ebb-a9d5-bc497fefdeff"
      },
      "source": [
        "df.head()"
      ],
      "execution_count": null,
      "outputs": [
        {
          "output_type": "execute_result",
          "data": {
            "text/html": [
              "<div>\n",
              "<style scoped>\n",
              "    .dataframe tbody tr th:only-of-type {\n",
              "        vertical-align: middle;\n",
              "    }\n",
              "\n",
              "    .dataframe tbody tr th {\n",
              "        vertical-align: top;\n",
              "    }\n",
              "\n",
              "    .dataframe thead th {\n",
              "        text-align: right;\n",
              "    }\n",
              "</style>\n",
              "<table border=\"1\" class=\"dataframe\">\n",
              "  <thead>\n",
              "    <tr style=\"text-align: right;\">\n",
              "      <th></th>\n",
              "      <th>APN</th>\n",
              "      <th>Owner</th>\n",
              "      <th>Address</th>\n",
              "      <th>City</th>\n",
              "      <th>Zip</th>\n",
              "      <th>Subdivison Name</th>\n",
              "      <th>MCR</th>\n",
              "      <th>S/T/R</th>\n",
              "      <th>Property Type</th>\n",
              "      <th>Rental</th>\n",
              "    </tr>\n",
              "  </thead>\n",
              "  <tbody>\n",
              "    <tr>\n",
              "      <th>0</th>\n",
              "      <td>20112805</td>\n",
              "      <td>67TH AVENUE &amp; HAPPY VALLEY LLC</td>\n",
              "      <td>6645 W HAPPY VALLEY RD</td>\n",
              "      <td>GLENDALE</td>\n",
              "      <td>85310.0</td>\n",
              "      <td>FRYS FOOD STORE 67TH AVENUE &amp; HAPPY VALLEY ROAD</td>\n",
              "      <td>60745.0</td>\n",
              "      <td>74N2E</td>\n",
              "      <td>Fast Food Restaurant</td>\n",
              "      <td>N</td>\n",
              "    </tr>\n",
              "    <tr>\n",
              "      <th>1</th>\n",
              "      <td>20112809</td>\n",
              "      <td>67TH AVENUE &amp; HAPPY VALLEY LLC</td>\n",
              "      <td>6535 W HAPPY VALLEY RD</td>\n",
              "      <td>GLENDALE</td>\n",
              "      <td>85310.0</td>\n",
              "      <td>FRYS FOOD STORE 67TH AVENUE &amp; HAPPY VALLEY ROAD</td>\n",
              "      <td>60745.0</td>\n",
              "      <td>74N2E</td>\n",
              "      <td>Fast Food Restaurant</td>\n",
              "      <td>N</td>\n",
              "    </tr>\n",
              "    <tr>\n",
              "      <th>2</th>\n",
              "      <td>40021153</td>\n",
              "      <td>BUCKEYE EXPRESS FOOD LLC</td>\n",
              "      <td>626 E MONROE AVE</td>\n",
              "      <td>BUCKEYE</td>\n",
              "      <td>85326.0</td>\n",
              "      <td>CENTRAL BUCKEYE BLOCKS 3 THRU 6 11 THRU 14</td>\n",
              "      <td>2028.0</td>\n",
              "      <td>51S3W</td>\n",
              "      <td>Fast Food Restaurant</td>\n",
              "      <td>N</td>\n",
              "    </tr>\n",
              "    <tr>\n",
              "      <th>3</th>\n",
              "      <td>10109061</td>\n",
              "      <td>GKP&amp;B LTD PARTNERSHIP</td>\n",
              "      <td>9309 W VAN BUREN ST</td>\n",
              "      <td>TOLLESON</td>\n",
              "      <td>85353.0</td>\n",
              "      <td>PETES FISH AND CHIPS</td>\n",
              "      <td>116721.0</td>\n",
              "      <td>91N1E</td>\n",
              "      <td>Fast Food Restaurant</td>\n",
              "      <td>N</td>\n",
              "    </tr>\n",
              "    <tr>\n",
              "      <th>4</th>\n",
              "      <td>10114017</td>\n",
              "      <td>PSAROS FAMILY TRUST</td>\n",
              "      <td>9850 W LOWER BUCKEYE RD</td>\n",
              "      <td>TOLLESON</td>\n",
              "      <td>85353.0</td>\n",
              "      <td>PECAN PROMENADE</td>\n",
              "      <td>73148.0</td>\n",
              "      <td>161N1E</td>\n",
              "      <td>Fast Food Restaurant</td>\n",
              "      <td>N</td>\n",
              "    </tr>\n",
              "  </tbody>\n",
              "</table>\n",
              "</div>"
            ],
            "text/plain": [
              "        APN                           Owner  ...         Property Type Rental\n",
              "0  20112805  67TH AVENUE & HAPPY VALLEY LLC  ...  Fast Food Restaurant      N\n",
              "1  20112809  67TH AVENUE & HAPPY VALLEY LLC  ...  Fast Food Restaurant      N\n",
              "2  40021153        BUCKEYE EXPRESS FOOD LLC  ...  Fast Food Restaurant      N\n",
              "3  10109061           GKP&B LTD PARTNERSHIP  ...  Fast Food Restaurant      N\n",
              "4  10114017             PSAROS FAMILY TRUST  ...  Fast Food Restaurant      N\n",
              "\n",
              "[5 rows x 10 columns]"
            ]
          },
          "metadata": {},
          "execution_count": 4
        }
      ]
    },
    {
      "cell_type": "markdown",
      "metadata": {
        "id": "BVxdg8Z91_xX"
      },
      "source": [
        "# Scrub"
      ]
    },
    {
      "cell_type": "markdown",
      "metadata": {
        "id": "A1EMkPFO4K57"
      },
      "source": [
        "Due to some `Subdivision Name` values posessing unescaped commas that interfered with Pandas' ability to properly align the columns, some manual cleaning in Libre Office was performed by me.\n",
        "\n",
        "Aside from a handful of Null values, the data is fairly clean and requires little from Pandas."
      ]
    },
    {
      "cell_type": "markdown",
      "metadata": {
        "id": "eBoAe0Xb5HdA"
      },
      "source": [
        "## Null Values"
      ]
    },
    {
      "cell_type": "markdown",
      "metadata": {
        "id": "hhDpJYOj5K4U"
      },
      "source": [
        "Here are the sums and percentage of NULLS in the dataframe.\n",
        "Interestingly, there are `17` NULLS that do not have any physical addresses. This amounts to `1.7%` of values for the `Address`, `City`, and `Zip`, and are all corresponding rows for those missing values. \n",
        "\n",
        "I have looked into a couple of these on the Maricopa County Assessor's GIS Portal, and they do not appear to have any assigned physical addresses. This is a good avenue of exploration for EDA. Possibly an error that could be corrected, or some obscure legal reason, but interesting nonetheless.\n",
        "\n",
        "Additionally, there are `391` NULLS in `Subdivision Name` accounting for `39.1%`. This is a feature that I am interested in exploring to determine if there are any predominant groups. It could also generate a list of Entities that can be searched later to see if the dataset can be enriched beyond it's initial 1,000 record limit. \n",
        "\n",
        "There are `348` NULLS in the `MCR` column. This is the definition according to the [MCA Glossary](https://maps.mcassessor.maricopa.gov/help/glossary.html#:~:text=MCR%20(Maricopa%20county%20recorder%20number)) \n",
        "\n",
        "    MCR (MARICOPA COUNTY RECORDER NUMBER)\n",
        "    Often associated with recorded plat maps.\n",
        "\n",
        "This seems to be an uninteresting nominal value, so I will drop this columns.\n",
        "\n",
        "While `Property Type` and `Rental` have no NULLS, 100% of those values are `Fast Food Restaurant` and `N` (for No), and therefore offer no useful information, and will be dropped.\n",
        "\n",
        "I will leave the `S/T/R` column, although it also seems to be uninteresting nominal values, I am curious if there are predominent groups, and since it also has no NULLS, might be useful for further data enrichment."
      ]
    },
    {
      "cell_type": "code",
      "metadata": {
        "colab": {
          "base_uri": "https://localhost:8080/"
        },
        "id": "0o_Jd8Ia2Hdo",
        "outputId": "294e4982-fa31-49a1-e95c-3bb26d6e0511"
      },
      "source": [
        "df.isnull().sum()"
      ],
      "execution_count": null,
      "outputs": [
        {
          "output_type": "execute_result",
          "data": {
            "text/plain": [
              "APN                  0\n",
              "Owner                0\n",
              "Address             17\n",
              "City                17\n",
              "Zip                 17\n",
              "Subdivison Name    391\n",
              "MCR                348\n",
              "S/T/R                0\n",
              "Property Type        0\n",
              "Rental               0\n",
              "dtype: int64"
            ]
          },
          "metadata": {},
          "execution_count": 10
        }
      ]
    },
    {
      "cell_type": "code",
      "metadata": {
        "colab": {
          "base_uri": "https://localhost:8080/"
        },
        "id": "Lhbma4cy49Tu",
        "outputId": "b2a25b8d-62e7-4d57-a96a-515a5e48c5c4"
      },
      "source": [
        "df.isnull().mean()"
      ],
      "execution_count": null,
      "outputs": [
        {
          "output_type": "execute_result",
          "data": {
            "text/plain": [
              "APN                0.000\n",
              "Owner              0.000\n",
              "Address            0.017\n",
              "City               0.017\n",
              "Zip                0.017\n",
              "Subdivison Name    0.391\n",
              "MCR                0.348\n",
              "S/T/R              0.000\n",
              "Property Type      0.000\n",
              "Rental             0.000\n",
              "dtype: float64"
            ]
          },
          "metadata": {},
          "execution_count": 9
        }
      ]
    },
    {
      "cell_type": "markdown",
      "metadata": {
        "id": "1w_cIsf49CJ4"
      },
      "source": [
        "## Dropping Values"
      ]
    },
    {
      "cell_type": "code",
      "metadata": {
        "id": "QbLwkvmb9FA9"
      },
      "source": [
        "cleaned_df = df.drop(['MCR', 'Property Type', 'Rental'], axis = 1).copy()"
      ],
      "execution_count": null,
      "outputs": []
    },
    {
      "cell_type": "code",
      "metadata": {
        "colab": {
          "base_uri": "https://localhost:8080/",
          "height": 419
        },
        "id": "_i9km7bZ9oKs",
        "outputId": "d442f0a8-ce2b-438a-a280-7e1b996e721e"
      },
      "source": [
        "cleaned_df"
      ],
      "execution_count": null,
      "outputs": [
        {
          "output_type": "execute_result",
          "data": {
            "text/html": [
              "<div>\n",
              "<style scoped>\n",
              "    .dataframe tbody tr th:only-of-type {\n",
              "        vertical-align: middle;\n",
              "    }\n",
              "\n",
              "    .dataframe tbody tr th {\n",
              "        vertical-align: top;\n",
              "    }\n",
              "\n",
              "    .dataframe thead th {\n",
              "        text-align: right;\n",
              "    }\n",
              "</style>\n",
              "<table border=\"1\" class=\"dataframe\">\n",
              "  <thead>\n",
              "    <tr style=\"text-align: right;\">\n",
              "      <th></th>\n",
              "      <th>APN</th>\n",
              "      <th>Owner</th>\n",
              "      <th>Address</th>\n",
              "      <th>City</th>\n",
              "      <th>Zip</th>\n",
              "      <th>Subdivison Name</th>\n",
              "      <th>S/T/R</th>\n",
              "    </tr>\n",
              "  </thead>\n",
              "  <tbody>\n",
              "    <tr>\n",
              "      <th>0</th>\n",
              "      <td>20112805</td>\n",
              "      <td>67TH AVENUE &amp; HAPPY VALLEY LLC</td>\n",
              "      <td>6645 W HAPPY VALLEY RD</td>\n",
              "      <td>GLENDALE</td>\n",
              "      <td>85310.0</td>\n",
              "      <td>FRYS FOOD STORE 67TH AVENUE &amp; HAPPY VALLEY ROAD</td>\n",
              "      <td>74N2E</td>\n",
              "    </tr>\n",
              "    <tr>\n",
              "      <th>1</th>\n",
              "      <td>20112809</td>\n",
              "      <td>67TH AVENUE &amp; HAPPY VALLEY LLC</td>\n",
              "      <td>6535 W HAPPY VALLEY RD</td>\n",
              "      <td>GLENDALE</td>\n",
              "      <td>85310.0</td>\n",
              "      <td>FRYS FOOD STORE 67TH AVENUE &amp; HAPPY VALLEY ROAD</td>\n",
              "      <td>74N2E</td>\n",
              "    </tr>\n",
              "    <tr>\n",
              "      <th>2</th>\n",
              "      <td>40021153</td>\n",
              "      <td>BUCKEYE EXPRESS FOOD LLC</td>\n",
              "      <td>626 E MONROE AVE</td>\n",
              "      <td>BUCKEYE</td>\n",
              "      <td>85326.0</td>\n",
              "      <td>CENTRAL BUCKEYE BLOCKS 3 THRU 6 11 THRU 14</td>\n",
              "      <td>51S3W</td>\n",
              "    </tr>\n",
              "    <tr>\n",
              "      <th>3</th>\n",
              "      <td>10109061</td>\n",
              "      <td>GKP&amp;B LTD PARTNERSHIP</td>\n",
              "      <td>9309 W VAN BUREN ST</td>\n",
              "      <td>TOLLESON</td>\n",
              "      <td>85353.0</td>\n",
              "      <td>PETES FISH AND CHIPS</td>\n",
              "      <td>91N1E</td>\n",
              "    </tr>\n",
              "    <tr>\n",
              "      <th>4</th>\n",
              "      <td>10114017</td>\n",
              "      <td>PSAROS FAMILY TRUST</td>\n",
              "      <td>9850 W LOWER BUCKEYE RD</td>\n",
              "      <td>TOLLESON</td>\n",
              "      <td>85353.0</td>\n",
              "      <td>PECAN PROMENADE</td>\n",
              "      <td>161N1E</td>\n",
              "    </tr>\n",
              "    <tr>\n",
              "      <th>...</th>\n",
              "      <td>...</td>\n",
              "      <td>...</td>\n",
              "      <td>...</td>\n",
              "      <td>...</td>\n",
              "      <td>...</td>\n",
              "      <td>...</td>\n",
              "      <td>...</td>\n",
              "    </tr>\n",
              "    <tr>\n",
              "      <th>995</th>\n",
              "      <td>30165894</td>\n",
              "      <td>PROPCOR II ASSOCIATES LLC</td>\n",
              "      <td>3476 W FRYE RD</td>\n",
              "      <td>CHANDLER</td>\n",
              "      <td>85226.0</td>\n",
              "      <td>CHANDLER FASHION CENTER</td>\n",
              "      <td>361S4E</td>\n",
              "    </tr>\n",
              "    <tr>\n",
              "      <th>996</th>\n",
              "      <td>30165981</td>\n",
              "      <td>RICHARD AND LISA KELTER LIVING TRUST</td>\n",
              "      <td>3141 W FRYE RD</td>\n",
              "      <td>CHANDLER</td>\n",
              "      <td>85226.0</td>\n",
              "      <td>CHANDLER VIRIDIAN PRIMEGATE MLD</td>\n",
              "      <td>361S4E</td>\n",
              "    </tr>\n",
              "    <tr>\n",
              "      <th>997</th>\n",
              "      <td>30167963</td>\n",
              "      <td>RILCK BK 9316 LLC</td>\n",
              "      <td>4979 W RAY RD</td>\n",
              "      <td>CHANDLER</td>\n",
              "      <td>85226.0</td>\n",
              "      <td>CORONA DEL SOL PLAZA</td>\n",
              "      <td>261S4E</td>\n",
              "    </tr>\n",
              "    <tr>\n",
              "      <th>998</th>\n",
              "      <td>30169027M</td>\n",
              "      <td>MILLER RUSSELL D</td>\n",
              "      <td>4111 E CHANDLER BLVD</td>\n",
              "      <td>PHOENIX</td>\n",
              "      <td>85048.0</td>\n",
              "      <td>NaN</td>\n",
              "      <td>311S4E</td>\n",
              "    </tr>\n",
              "    <tr>\n",
              "      <th>999</th>\n",
              "      <td>30169943</td>\n",
              "      <td>MCDONALDS CORPORATION 002-0162</td>\n",
              "      <td>4019 E CHANDLER BLVD</td>\n",
              "      <td>PHOENIX</td>\n",
              "      <td>85048.0</td>\n",
              "      <td>PLAZA AT MOUNTAINSIDE AMD</td>\n",
              "      <td>311S4E</td>\n",
              "    </tr>\n",
              "  </tbody>\n",
              "</table>\n",
              "<p>1000 rows × 7 columns</p>\n",
              "</div>"
            ],
            "text/plain": [
              "           APN  ...   S/T/R\n",
              "0     20112805  ...   74N2E\n",
              "1     20112809  ...   74N2E\n",
              "2     40021153  ...   51S3W\n",
              "3     10109061  ...   91N1E\n",
              "4     10114017  ...  161N1E\n",
              "..         ...  ...     ...\n",
              "995   30165894  ...  361S4E\n",
              "996   30165981  ...  361S4E\n",
              "997   30167963  ...  261S4E\n",
              "998  30169027M  ...  311S4E\n",
              "999   30169943  ...  311S4E\n",
              "\n",
              "[1000 rows x 7 columns]"
            ]
          },
          "metadata": {},
          "execution_count": 19
        }
      ]
    },
    {
      "cell_type": "markdown",
      "metadata": {
        "id": "qoRATUWl2H-M"
      },
      "source": [
        "# Explore"
      ]
    },
    {
      "cell_type": "markdown",
      "metadata": {
        "id": "Y9bX2wJ1-85W"
      },
      "source": [
        "## Value Counts"
      ]
    },
    {
      "cell_type": "markdown",
      "metadata": {
        "id": "1ejDx_WkB8ko"
      },
      "source": [
        "### City"
      ]
    },
    {
      "cell_type": "code",
      "metadata": {
        "colab": {
          "base_uri": "https://localhost:8080/",
          "height": 636
        },
        "id": "9Y2UdWyt-V6V",
        "outputId": "96b75ff6-f83e-41e7-9d76-025a1cacf16b"
      },
      "source": [
        "cleaned_df['City'].value_counts().plot(kind='bar', figsize = (18, 9))"
      ],
      "execution_count": null,
      "outputs": [
        {
          "output_type": "execute_result",
          "data": {
            "text/plain": [
              "<matplotlib.axes._subplots.AxesSubplot at 0x7f5a76920310>"
            ]
          },
          "metadata": {},
          "execution_count": 31
        },
        {
          "output_type": "display_data",
          "data": {
            "image/png": "[encoded data removed]",
            "text/plain": [
              "<Figure size 1296x648 with 1 Axes>"
            ]
          },
          "metadata": {
            "needs_background": "light"
          }
        }
      ]
    },
    {
      "cell_type": "markdown",
      "metadata": {
        "id": "Xd5SCrNJB-wz"
      },
      "source": [
        "### Zip"
      ]
    },
    {
      "cell_type": "code",
      "metadata": {
        "colab": {
          "base_uri": "https://localhost:8080/",
          "height": 585
        },
        "id": "U5wkR4Yz--ir",
        "outputId": "d9c4900d-85cb-4ad9-ef7c-b86aeeb09bcb"
      },
      "source": [
        "cleaned_df['Zip'].value_counts().plot(kind='bar', figsize = (18,9))"
      ],
      "execution_count": null,
      "outputs": [
        {
          "output_type": "execute_result",
          "data": {
            "text/plain": [
              "<matplotlib.axes._subplots.AxesSubplot at 0x7f5a7d9ae7d0>"
            ]
          },
          "metadata": {},
          "execution_count": 30
        },
        {
          "output_type": "display_data",
          "data": {
            "image/png": "[encoded data removed]",
            "text/plain": [
              "<Figure size 1296x648 with 1 Axes>"
            ]
          },
          "metadata": {
            "needs_background": "light"
          }
        }
      ]
    },
    {
      "cell_type": "markdown",
      "metadata": {
        "id": "s3F3R-pdB__Q"
      },
      "source": [
        "### Owner"
      ]
    },
    {
      "cell_type": "markdown",
      "metadata": {
        "id": "I2I-PVyHENn2"
      },
      "source": [
        "The top 20 companies would be good to search for data enrichment."
      ]
    },
    {
      "cell_type": "code",
      "metadata": {
        "colab": {
          "base_uri": "https://localhost:8080/",
          "height": 770
        },
        "id": "GFiR-CTB_k9H",
        "outputId": "a2b4b4b1-61d9-4159-e449-579ae5c13b4c"
      },
      "source": [
        "cleaned_df['Owner'].value_counts().head(20).plot(kind='bar', figsize = (18,9))"
      ],
      "execution_count": null,
      "outputs": [
        {
          "output_type": "execute_result",
          "data": {
            "text/plain": [
              "<matplotlib.axes._subplots.AxesSubplot at 0x7f5a72ce49d0>"
            ]
          },
          "metadata": {},
          "execution_count": 55
        },
        {
          "output_type": "display_data",
          "data": {
            "image/png": "[encoded data removed]",
            "text/plain": [
              "<Figure size 1296x648 with 1 Axes>"
            ]
          },
          "metadata": {
            "needs_background": "light"
          }
        }
      ]
    },
    {
      "cell_type": "markdown",
      "metadata": {
        "id": "T2MbG9r9CC62"
      },
      "source": [
        "### Subdivision Name"
      ]
    },
    {
      "cell_type": "code",
      "metadata": {
        "colab": {
          "base_uri": "https://localhost:8080/",
          "height": 790
        },
        "id": "bEV7bQB7CH4Y",
        "outputId": "3aa9494e-7531-4f79-8915-ea90c8a0fd6f"
      },
      "source": [
        "cleaned_df['Subdivison Name'].value_counts().head(20).plot(kind='bar', figsize = (18,9))"
      ],
      "execution_count": null,
      "outputs": [
        {
          "output_type": "execute_result",
          "data": {
            "text/plain": [
              "<matplotlib.axes._subplots.AxesSubplot at 0x7f5a72cbdf50>"
            ]
          },
          "metadata": {},
          "execution_count": 56
        },
        {
          "output_type": "display_data",
          "data": {
            "image/png": "[encoded data removed]",
            "text/plain": [
              "<Figure size 1296x648 with 1 Axes>"
            ]
          },
          "metadata": {
            "needs_background": "light"
          }
        }
      ]
    },
    {
      "cell_type": "markdown",
      "metadata": {
        "id": "Q6ll68rZDxlV"
      },
      "source": [
        "I checked through `MESA ARIZONA`, `MESA RIVERVIEW`, and `HELSING PLAZA`, but the only one of interests was `MESA RIVERVIEW`, since all parcels in the dataset are owned by two-entity split between `SACHS RANCH CO LLC`, and `HURLEY LAND CO LLC`.\n",
        "\n",
        "Both companies have been searched and yeilded additional properties for data enrichment."
      ]
    },
    {
      "cell_type": "code",
      "metadata": {
        "colab": {
          "base_uri": "https://localhost:8080/",
          "height": 235
        },
        "id": "b39gUmvYCecR",
        "outputId": "a5d3c03d-b2c2-4fb3-db68-37d31f64df55"
      },
      "source": [
        "cleaned_df[cleaned_df['Subdivison Name'] == 'MESA RIVERVIEW']"
      ],
      "execution_count": null,
      "outputs": [
        {
          "output_type": "execute_result",
          "data": {
            "text/html": [
              "<div>\n",
              "<style scoped>\n",
              "    .dataframe tbody tr th:only-of-type {\n",
              "        vertical-align: middle;\n",
              "    }\n",
              "\n",
              "    .dataframe tbody tr th {\n",
              "        vertical-align: top;\n",
              "    }\n",
              "\n",
              "    .dataframe thead th {\n",
              "        text-align: right;\n",
              "    }\n",
              "</style>\n",
              "<table border=\"1\" class=\"dataframe\">\n",
              "  <thead>\n",
              "    <tr style=\"text-align: right;\">\n",
              "      <th></th>\n",
              "      <th>APN</th>\n",
              "      <th>Owner</th>\n",
              "      <th>Address</th>\n",
              "      <th>City</th>\n",
              "      <th>Zip</th>\n",
              "      <th>Subdivison Name</th>\n",
              "      <th>S/T/R</th>\n",
              "    </tr>\n",
              "  </thead>\n",
              "  <tbody>\n",
              "    <tr>\n",
              "      <th>362</th>\n",
              "      <td>13533547</td>\n",
              "      <td>SACHS RANCH CO LLC/HURLEY LAND CO LLC</td>\n",
              "      <td>953 N DOBSON RD</td>\n",
              "      <td>MESA</td>\n",
              "      <td>85201.0</td>\n",
              "      <td>MESA RIVERVIEW</td>\n",
              "      <td>171N5E</td>\n",
              "    </tr>\n",
              "    <tr>\n",
              "      <th>363</th>\n",
              "      <td>13533548</td>\n",
              "      <td>SACHS RANCH CO LLC/HURLEY LAND CO LLC</td>\n",
              "      <td>949 N DOBSON RD</td>\n",
              "      <td>MESA</td>\n",
              "      <td>85201.0</td>\n",
              "      <td>MESA RIVERVIEW</td>\n",
              "      <td>171N5E</td>\n",
              "    </tr>\n",
              "    <tr>\n",
              "      <th>364</th>\n",
              "      <td>13533556</td>\n",
              "      <td>SACHS RANCH CO LLC/HURLEY LAND CO LLC</td>\n",
              "      <td>905 N DOBSON RD</td>\n",
              "      <td>MESA</td>\n",
              "      <td>85201.0</td>\n",
              "      <td>MESA RIVERVIEW</td>\n",
              "      <td>171N5E</td>\n",
              "    </tr>\n",
              "    <tr>\n",
              "      <th>365</th>\n",
              "      <td>13533557</td>\n",
              "      <td>SACHS RANCH CO LLC/HURLEY LAND CO LLC</td>\n",
              "      <td>913 N DOBSON RD</td>\n",
              "      <td>MESA</td>\n",
              "      <td>85201.0</td>\n",
              "      <td>MESA RIVERVIEW</td>\n",
              "      <td>171N5E</td>\n",
              "    </tr>\n",
              "    <tr>\n",
              "      <th>366</th>\n",
              "      <td>13533558</td>\n",
              "      <td>SACHS RANCH CO LLC/HURLEY LAND CO LLC</td>\n",
              "      <td>917 N DOBSON RD</td>\n",
              "      <td>MESA</td>\n",
              "      <td>85201.0</td>\n",
              "      <td>MESA RIVERVIEW</td>\n",
              "      <td>171N5E</td>\n",
              "    </tr>\n",
              "    <tr>\n",
              "      <th>367</th>\n",
              "      <td>13533559</td>\n",
              "      <td>SACHS RANCH CO LLC/HURLEY LAND CO LLC</td>\n",
              "      <td>921 N DOBSON RD</td>\n",
              "      <td>MESA</td>\n",
              "      <td>85201.0</td>\n",
              "      <td>MESA RIVERVIEW</td>\n",
              "      <td>171N5E</td>\n",
              "    </tr>\n",
              "  </tbody>\n",
              "</table>\n",
              "</div>"
            ],
            "text/plain": [
              "          APN                                  Owner  ... Subdivison Name   S/T/R\n",
              "362  13533547  SACHS RANCH CO LLC/HURLEY LAND CO LLC  ...  MESA RIVERVIEW  171N5E\n",
              "363  13533548  SACHS RANCH CO LLC/HURLEY LAND CO LLC  ...  MESA RIVERVIEW  171N5E\n",
              "364  13533556  SACHS RANCH CO LLC/HURLEY LAND CO LLC  ...  MESA RIVERVIEW  171N5E\n",
              "365  13533557  SACHS RANCH CO LLC/HURLEY LAND CO LLC  ...  MESA RIVERVIEW  171N5E\n",
              "366  13533558  SACHS RANCH CO LLC/HURLEY LAND CO LLC  ...  MESA RIVERVIEW  171N5E\n",
              "367  13533559  SACHS RANCH CO LLC/HURLEY LAND CO LLC  ...  MESA RIVERVIEW  171N5E\n",
              "\n",
              "[6 rows x 7 columns]"
            ]
          },
          "metadata": {},
          "execution_count": 53
        }
      ]
    },
    {
      "cell_type": "markdown",
      "metadata": {
        "id": "GMYA4A02CIVg"
      },
      "source": [
        "### S/T/R"
      ]
    },
    {
      "cell_type": "markdown",
      "metadata": {
        "id": "Sr7wrsbMHGCB"
      },
      "source": [
        "There are 417 unique values, which is too many features to plot as a bar chart, and even looking at the top 20 would probably not be of any immediate interest, but will be a good candidate for broader data enrichment."
      ]
    },
    {
      "cell_type": "code",
      "metadata": {
        "colab": {
          "base_uri": "https://localhost:8080/"
        },
        "id": "Hx5Dl5dTCJi1",
        "outputId": "f3466acd-ba4a-42b6-a68e-9b24a91e6b24"
      },
      "source": [
        "cleaned_df['S/T/R'].value_counts()"
      ],
      "execution_count": null,
      "outputs": [
        {
          "output_type": "execute_result",
          "data": {
            "text/plain": [
              "291N3E    11\n",
              "221N5E    10\n",
              "262N3E     9\n",
              "231N4E     9\n",
              "263N2E     8\n",
              "          ..\n",
              "211N3E     1\n",
              "144N1E     1\n",
              "234N2E     1\n",
              "42N3E      1\n",
              "71N3E      1\n",
              "Name: S/T/R, Length: 417, dtype: int64"
            ]
          },
          "metadata": {},
          "execution_count": 52
        }
      ]
    },
    {
      "cell_type": "markdown",
      "metadata": {
        "id": "Hg9zq2Tw2KCz"
      },
      "source": [
        "# Model"
      ]
    },
    {
      "cell_type": "markdown",
      "metadata": {
        "id": "-Xo9lT3vGKLq"
      },
      "source": [
        "I will need to do some substantial data encrichment before I can do any modeling. I will compile a large dataset of APN's, which can be individually queried by the API to get more specific information, and will continue my analysis from there."
      ]
    },
    {
      "cell_type": "markdown",
      "metadata": {
        "id": "foMPks4V2nVm"
      },
      "source": [
        "# Interpret"
      ]
    },
    {
      "cell_type": "markdown",
      "metadata": {
        "id": "edmMXD6kGflO"
      },
      "source": [
        "At this time, with the limited number of initial features, and all nominal values, the only interpretation I can draw is that there are plenty of useful features for further data enrichment. More to follow."
      ]
    },
    {
      "cell_type": "markdown",
      "metadata": {
        "id": "K7F2O6NCAcvH"
      },
      "source": [
        "# Data Enrichment"
      ]
    },
    {
      "cell_type": "markdown",
      "metadata": {
        "id": "v94a-QdkG3oU"
      },
      "source": [
        "## Owner"
      ]
    },
    {
      "cell_type": "markdown",
      "metadata": {
        "id": "fNih9Va3Aeim"
      },
      "source": [
        "Investigate the top `20` Entities for the `Owner` Value Counts (VC):\n",
        " - `STRR INVESTMENTS LLC`                    VC: 21\n",
        " - `MCDONALDS CORPORATION 002-0162`          VC: 16\n",
        " - `ARCHLAND PROPERTY I LLC`                 VC: 13\n",
        " - `KRAF INC`                                VC: 12\n",
        " - `MCDONALDS REAL ESTATE COMPANY`           VC: 12\n",
        " - `MASON GRAVLEE ENTERPRISES INC`           VC:  9\n",
        " - `GEN2 ARIZONA PROPERTIES LLC`             VC:  8\n",
        " - `S K & M INVESTMENTS INC`                 VC:  8\n",
        " - `LEVINE INVESTMENTS LP`                   VC:  8\n",
        " - `WENDY'S PROPERTIES LLC`                  VC:  8\n",
        " - `FRIS CHKN LLC`                           VC:  7\n",
        " - `MASON HARRISON RATLIFF ENTERPRISES LLC`  VC:  7\n",
        " - `SACHS RANCH CO LLC/HURLEY LAND CO LLC`   VC:  6\n",
        " - `DESERT TACO LLC`                         VC:  5\n",
        " - `IN-N-OUT BURGERS`                        VC:  5\n",
        " - `MCDONALDS CORPORATION`                   VC:  5\n",
        " - `B&D REAL ESTATE LLC`                     VC:  5\n",
        " - `B & B MERRITT REAL ESTATE LLC`           VC:  5\n",
        " - `CFT NV DEVELOPMENTS LLC`                 VC:  5\n",
        " - `SONIC DEVELOPMENT OF AZ LLC`             VC:  4"
      ]
    },
    {
      "cell_type": "code",
      "metadata": {
        "colab": {
          "base_uri": "https://localhost:8080/"
        },
        "id": "ClayD84wAn7h",
        "outputId": "f4d64257-ae91-429a-be65-9b6d8f7be975"
      },
      "source": [
        "cleaned_df['Owner'].value_counts().head(20)"
      ],
      "execution_count": null,
      "outputs": [
        {
          "output_type": "execute_result",
          "data": {
            "text/plain": [
              "STRR INVESTMENTS LLC                      21\n",
              "MCDONALDS CORPORATION 002-0162            16\n",
              "ARCHLAND PROPERTY I LLC                   13\n",
              "KRAF INC                                  12\n",
              "MCDONALDS REAL ESTATE COMPANY             12\n",
              "MASON GRAVLEE ENTERPRISES INC              9\n",
              "GEN2 ARIZONA PROPERTIES LLC                8\n",
              "S K & M INVESTMENTS INC                    8\n",
              "LEVINE INVESTMENTS LP                      8\n",
              "WENDY'S PROPERTIES LLC                     8\n",
              "FRIS CHKN LLC                              7\n",
              "MASON HARRISON RATLIFF ENTERPRISES LLC     7\n",
              "SACHS RANCH CO LLC/HURLEY LAND CO LLC      6\n",
              "DESERT TACO LLC                            5\n",
              "IN-N-OUT BURGERS                           5\n",
              "MCDONALDS CORPORATION                      5\n",
              "B&D REAL ESTATE LLC                        5\n",
              "B & B MERRITT REAL ESTATE LLC              5\n",
              "CFT NV DEVELOPMENTS LLC                    5\n",
              "SONIC DEVELOPMENT OF AZ LLC                4\n",
              "Name: Owner, dtype: int64"
            ]
          },
          "metadata": {},
          "execution_count": 41
        }
      ]
    },
    {
      "cell_type": "markdown",
      "metadata": {
        "id": "1pLxmWIKG6Iv"
      },
      "source": [
        "## S/T/R"
      ]
    },
    {
      "cell_type": "markdown",
      "metadata": {
        "id": "_9dA0f4WG9E-"
      },
      "source": [
        "Searching an `S/T/R` value in the MCA database returns a large number of values, but of many different property types. This would be a good search query for data enrichment, but of a broader scope than this analysis. It would be interesting to see what other property types (aside from Fast Food) could be explored."
      ]
    },
    {
      "cell_type": "markdown",
      "metadata": {
        "id": "lqEEEgp-VkTc"
      },
      "source": [
        "**Useful Information**\n",
        "\n",
        " * [Public Land Survey System (PLSS) [Wikipedia]](https://en.wikipedia.org/wiki/Public_Land_Survey_System)\n",
        "\n",
        " * [S/T/R Explaination [PDF] (Arizona Dept. of Water Resources)](http://www.azwater.gov/azdwr/documents/township-section-rangecolor.pdf)\n",
        "\n",
        " * [Land Division Explaination (Glendale Community College)](https://web.gccaz.edu/~lynrw95071/Township%20Range%20Explanation.html)\n",
        "\n",
        " * [Interactive PLSS Township Map (Randy Majors)](https://www.randymajors.org/township-range-on-google-maps?x=-112.3456568&y=33.4170455&cx=-112.1012110&cy=33.4239228&zoom=9&color=1e73be&counties=show)\n"
      ]
    },
    {
      "cell_type": "code",
      "metadata": {
        "colab": {
          "base_uri": "https://localhost:8080/"
        },
        "id": "Hehze3jEG8O4",
        "outputId": "0b937aa0-3a7a-4652-c42d-30215df4feec"
      },
      "source": [
        "cleaned_df['S/T/R'].value_counts()"
      ],
      "execution_count": null,
      "outputs": [
        {
          "output_type": "execute_result",
          "data": {
            "text/plain": [
              "291N3E    11\n",
              "221N5E    10\n",
              "262N3E     9\n",
              "231N4E     9\n",
              "263N2E     8\n",
              "          ..\n",
              "211N3E     1\n",
              "144N1E     1\n",
              "234N2E     1\n",
              "42N3E      1\n",
              "71N3E      1\n",
              "Name: S/T/R, Length: 417, dtype: int64"
            ]
          },
          "metadata": {},
          "execution_count": 59
        }
      ]
    }
  ]
}
