{
  "nbformat": 4,
  "nbformat_minor": 0,
  "metadata": {
    "colab": {
      "name": "20210903 MCA Analysis",
      "provenance": [],
      "collapsed_sections": [
        "ZwLyUqdXypAa",
        "phRLIQL0eFal",
        "TtEbljsbzMwH",
        "yi1EBn3cuCrP",
        "T2qYSJUbuHdu"
      ],
      "authorship_tag": "ABX9TyOcDB156wzJrG2Ue7P/tOw1",
      "include_colab_link": true
    },
    "kernelspec": {
      "name": "python3",
      "display_name": "Python 3"
    },
    "language_info": {
      "name": "python"
    }
  },
  "cells": [
    {
      "cell_type": "markdown",
      "metadata": {
        "id": "view-in-github",
        "colab_type": "text"
      },
      "source": [
        "<a href=\"https://colab.research.google.com/github/foxbatcs/mca_data/blob/master/20210903_MCA_Analysis.ipynb\" target=\"_parent\"><img src=\"https://colab.research.google.com/assets/colab-badge.svg\" alt=\"Open In Colab\"/></a>"
      ]
    },
    {
      "cell_type": "markdown",
      "metadata": {
        "id": "DmFg-Dw4dVcA"
      },
      "source": [
        "# Maricopa County Assessor Anaylsis"
      ]
    },
    {
      "cell_type": "markdown",
      "metadata": {
        "id": "hGxK3VvjdtlV"
      },
      "source": [
        "## Libraries"
      ]
    },
    {
      "cell_type": "code",
      "metadata": {
        "colab": {
          "base_uri": "https://localhost:8080/"
        },
        "id": "S9jRbcygAQq3",
        "outputId": "32b3df5d-d1b7-4667-815c-2c387791f63c"
      },
      "source": [
        "!pip3 install mcaapi"
      ],
      "execution_count": null,
      "outputs": [
        {
          "output_type": "stream",
          "name": "stdout",
          "text": [
            "Collecting mcaapi\n",
            "  Downloading mcaapi-0.1.2-py3-none-any.whl (9.7 kB)\n",
            "  Downloading mcaapi-0.1.1-py3-none-any.whl (9.7 kB)\n",
            "  Downloading mcaapi-0.1.0-py3-none-any.whl (239 kB)\n",
            "\u001b[K     |████████████████████████████████| 239 kB 32.2 MB/s \n",
            "\u001b[?25h  Downloading mcaapi-0.0.9-py3-none-any.whl (10 kB)\n",
            "Installing collected packages: mcaapi\n",
            "Successfully installed mcaapi-0.0.9\n"
          ]
        }
      ]
    },
    {
      "cell_type": "code",
      "metadata": {
        "id": "e79qvUkfASp-"
      },
      "source": [
        "import mcaapi\n",
        "import pandas as pd\n",
        "import matplotlib.pyplot as plt\n",
        "import seaborn as sns\n",
        "import numpy as np"
      ],
      "execution_count": null,
      "outputs": []
    },
    {
      "cell_type": "markdown",
      "metadata": {
        "id": "_iHlOwS4dyNz"
      },
      "source": [
        "## Setup"
      ]
    },
    {
      "cell_type": "code",
      "metadata": {
        "id": "iEUdRgwmBUCl"
      },
      "source": [
        "df = pd.read_csv('https://raw.githubusercontent.com/foxbatcs/mca_data/master/202109_mca_10k_residential.csv')"
      ],
      "execution_count": null,
      "outputs": []
    },
    {
      "cell_type": "code",
      "metadata": {
        "id": "_Z_eUORl5_q0"
      },
      "source": [
        "pd.set_option('display.float_format', lambda x: '%.2f' % x)\n",
        "pd.set_option('mode.chained_assignment', None)"
      ],
      "execution_count": null,
      "outputs": []
    },
    {
      "cell_type": "code",
      "metadata": {
        "colab": {
          "base_uri": "https://localhost:8080/",
          "height": 297
        },
        "id": "JlkIpA15LJ7X",
        "outputId": "e0289beb-6b79-45d0-bea1-5188bf816fc8"
      },
      "source": [
        "df.describe()"
      ],
      "execution_count": null,
      "outputs": [
        {
          "output_type": "execute_result",
          "data": {
            "text/html": [
              "<div>\n",
              "<style scoped>\n",
              "    .dataframe tbody tr th:only-of-type {\n",
              "        vertical-align: middle;\n",
              "    }\n",
              "\n",
              "    .dataframe tbody tr th {\n",
              "        vertical-align: top;\n",
              "    }\n",
              "\n",
              "    .dataframe thead th {\n",
              "        text-align: right;\n",
              "    }\n",
              "</style>\n",
              "<table border=\"1\" class=\"dataframe\">\n",
              "  <thead>\n",
              "    <tr style=\"text-align: right;\">\n",
              "      <th></th>\n",
              "      <th>lot_size_sf</th>\n",
              "      <th>price_usd</th>\n",
              "      <th>lat</th>\n",
              "      <th>lon</th>\n",
              "      <th>build_yr</th>\n",
              "      <th>build_size_sf</th>\n",
              "      <th>patio_ct</th>\n",
              "      <th>bath_fixtures_ct</th>\n",
              "    </tr>\n",
              "  </thead>\n",
              "  <tbody>\n",
              "    <tr>\n",
              "      <th>count</th>\n",
              "      <td>10390.00</td>\n",
              "      <td>6149.00</td>\n",
              "      <td>10357.00</td>\n",
              "      <td>10357.00</td>\n",
              "      <td>10389.00</td>\n",
              "      <td>10389.00</td>\n",
              "      <td>10389.00</td>\n",
              "      <td>10388.00</td>\n",
              "    </tr>\n",
              "    <tr>\n",
              "      <th>mean</th>\n",
              "      <td>11597.93</td>\n",
              "      <td>394038.77</td>\n",
              "      <td>33.50</td>\n",
              "      <td>-112.07</td>\n",
              "      <td>1992.13</td>\n",
              "      <td>2183.40</td>\n",
              "      <td>1.13</td>\n",
              "      <td>8.49</td>\n",
              "    </tr>\n",
              "    <tr>\n",
              "      <th>std</th>\n",
              "      <td>19040.16</td>\n",
              "      <td>587503.99</td>\n",
              "      <td>0.13</td>\n",
              "      <td>0.22</td>\n",
              "      <td>18.61</td>\n",
              "      <td>1202.70</td>\n",
              "      <td>0.86</td>\n",
              "      <td>3.44</td>\n",
              "    </tr>\n",
              "    <tr>\n",
              "      <th>min</th>\n",
              "      <td>692.00</td>\n",
              "      <td>6500.00</td>\n",
              "      <td>33.21</td>\n",
              "      <td>-112.78</td>\n",
              "      <td>1900.00</td>\n",
              "      <td>416.00</td>\n",
              "      <td>0.00</td>\n",
              "      <td>2.00</td>\n",
              "    </tr>\n",
              "    <tr>\n",
              "      <th>25%</th>\n",
              "      <td>5753.00</td>\n",
              "      <td>181500.00</td>\n",
              "      <td>33.41</td>\n",
              "      <td>-112.26</td>\n",
              "      <td>1979.00</td>\n",
              "      <td>1506.00</td>\n",
              "      <td>1.00</td>\n",
              "      <td>6.00</td>\n",
              "    </tr>\n",
              "    <tr>\n",
              "      <th>50%</th>\n",
              "      <td>7320.00</td>\n",
              "      <td>266360.00</td>\n",
              "      <td>33.48</td>\n",
              "      <td>-112.08</td>\n",
              "      <td>1997.00</td>\n",
              "      <td>1904.00</td>\n",
              "      <td>1.00</td>\n",
              "      <td>8.00</td>\n",
              "    </tr>\n",
              "    <tr>\n",
              "      <th>75%</th>\n",
              "      <td>9900.75</td>\n",
              "      <td>383552.00</td>\n",
              "      <td>33.60</td>\n",
              "      <td>-111.90</td>\n",
              "      <td>2004.00</td>\n",
              "      <td>2481.00</td>\n",
              "      <td>1.00</td>\n",
              "      <td>10.00</td>\n",
              "    </tr>\n",
              "    <tr>\n",
              "      <th>max</th>\n",
              "      <td>775699.00</td>\n",
              "      <td>18000000.00</td>\n",
              "      <td>33.99</td>\n",
              "      <td>-111.58</td>\n",
              "      <td>2021.00</td>\n",
              "      <td>21866.00</td>\n",
              "      <td>12.00</td>\n",
              "      <td>41.00</td>\n",
              "    </tr>\n",
              "  </tbody>\n",
              "</table>\n",
              "</div>"
            ],
            "text/plain": [
              "       lot_size_sf   price_usd  ...  patio_ct  bath_fixtures_ct\n",
              "count     10390.00     6149.00  ...  10389.00          10388.00\n",
              "mean      11597.93   394038.77  ...      1.13              8.49\n",
              "std       19040.16   587503.99  ...      0.86              3.44\n",
              "min         692.00     6500.00  ...      0.00              2.00\n",
              "25%        5753.00   181500.00  ...      1.00              6.00\n",
              "50%        7320.00   266360.00  ...      1.00              8.00\n",
              "75%        9900.75   383552.00  ...      1.00             10.00\n",
              "max      775699.00 18000000.00  ...     12.00             41.00\n",
              "\n",
              "[8 rows x 8 columns]"
            ]
          },
          "metadata": {},
          "execution_count": 6
        }
      ]
    },
    {
      "cell_type": "code",
      "metadata": {
        "colab": {
          "base_uri": "https://localhost:8080/",
          "height": 309
        },
        "id": "Wkmzlj1v8Lut",
        "outputId": "1534fa1c-56f4-4672-f0d2-bf278ebafb8d"
      },
      "source": [
        "df.head()"
      ],
      "execution_count": null,
      "outputs": [
        {
          "output_type": "execute_result",
          "data": {
            "text/html": [
              "<div>\n",
              "<style scoped>\n",
              "    .dataframe tbody tr th:only-of-type {\n",
              "        vertical-align: middle;\n",
              "    }\n",
              "\n",
              "    .dataframe tbody tr th {\n",
              "        vertical-align: top;\n",
              "    }\n",
              "\n",
              "    .dataframe thead th {\n",
              "        text-align: right;\n",
              "    }\n",
              "</style>\n",
              "<table border=\"1\" class=\"dataframe\">\n",
              "  <thead>\n",
              "    <tr style=\"text-align: right;\">\n",
              "      <th></th>\n",
              "      <th>lot_size_sf</th>\n",
              "      <th>city</th>\n",
              "      <th>deed_date</th>\n",
              "      <th>price_usd</th>\n",
              "      <th>sale_date</th>\n",
              "      <th>lat</th>\n",
              "      <th>lon</th>\n",
              "      <th>build_yr</th>\n",
              "      <th>build_size_sf</th>\n",
              "      <th>patio_ct</th>\n",
              "      <th>patio_type</th>\n",
              "      <th>wall_type</th>\n",
              "      <th>roof_type</th>\n",
              "      <th>bath_fixtures_ct</th>\n",
              "      <th>parking_type</th>\n",
              "    </tr>\n",
              "  </thead>\n",
              "  <tbody>\n",
              "    <tr>\n",
              "      <th>0</th>\n",
              "      <td>25063</td>\n",
              "      <td>PHOENIX</td>\n",
              "      <td>04/24/2020</td>\n",
              "      <td>525000.00</td>\n",
              "      <td>04/01/2020</td>\n",
              "      <td>33.35</td>\n",
              "      <td>-112.16</td>\n",
              "      <td>2007.00</td>\n",
              "      <td>4917.00</td>\n",
              "      <td>2.00</td>\n",
              "      <td>Covered</td>\n",
              "      <td>Frame Wood</td>\n",
              "      <td>Concrete Tile</td>\n",
              "      <td>13.00</td>\n",
              "      <td>GR</td>\n",
              "    </tr>\n",
              "    <tr>\n",
              "      <th>1</th>\n",
              "      <td>20756</td>\n",
              "      <td>PHOENIX</td>\n",
              "      <td>11/14/2017</td>\n",
              "      <td>337500.00</td>\n",
              "      <td>11/01/2017</td>\n",
              "      <td>33.35</td>\n",
              "      <td>-112.16</td>\n",
              "      <td>2007.00</td>\n",
              "      <td>2938.00</td>\n",
              "      <td>2.00</td>\n",
              "      <td>Covered</td>\n",
              "      <td>Frame Wood</td>\n",
              "      <td>Concrete Tile</td>\n",
              "      <td>14.00</td>\n",
              "      <td>GR</td>\n",
              "    </tr>\n",
              "    <tr>\n",
              "      <th>2</th>\n",
              "      <td>20810</td>\n",
              "      <td>PHOENIX</td>\n",
              "      <td>04/03/2020</td>\n",
              "      <td>545000.00</td>\n",
              "      <td>03/01/2020</td>\n",
              "      <td>33.35</td>\n",
              "      <td>-112.16</td>\n",
              "      <td>2007.00</td>\n",
              "      <td>5588.00</td>\n",
              "      <td>2.00</td>\n",
              "      <td>Covered Slab</td>\n",
              "      <td>Frame Wood</td>\n",
              "      <td>Concrete Tile</td>\n",
              "      <td>14.00</td>\n",
              "      <td>GR</td>\n",
              "    </tr>\n",
              "    <tr>\n",
              "      <th>3</th>\n",
              "      <td>20862</td>\n",
              "      <td>PHOENIX</td>\n",
              "      <td>07/16/2020</td>\n",
              "      <td>550000.00</td>\n",
              "      <td>05/01/2020</td>\n",
              "      <td>33.35</td>\n",
              "      <td>-112.16</td>\n",
              "      <td>2007.00</td>\n",
              "      <td>3849.00</td>\n",
              "      <td>4.00</td>\n",
              "      <td>Covered Slab</td>\n",
              "      <td>Frame Stucco</td>\n",
              "      <td>Concrete Tile</td>\n",
              "      <td>14.00</td>\n",
              "      <td>GR</td>\n",
              "    </tr>\n",
              "    <tr>\n",
              "      <th>4</th>\n",
              "      <td>22101</td>\n",
              "      <td>PHOENIX</td>\n",
              "      <td>04/10/2019</td>\n",
              "      <td>nan</td>\n",
              "      <td>NaN</td>\n",
              "      <td>33.35</td>\n",
              "      <td>-112.16</td>\n",
              "      <td>2007.00</td>\n",
              "      <td>5588.00</td>\n",
              "      <td>2.00</td>\n",
              "      <td>Covered Slab</td>\n",
              "      <td>Frame Wood</td>\n",
              "      <td>Concrete Tile</td>\n",
              "      <td>14.00</td>\n",
              "      <td>GR</td>\n",
              "    </tr>\n",
              "  </tbody>\n",
              "</table>\n",
              "</div>"
            ],
            "text/plain": [
              "   lot_size_sf     city  ... bath_fixtures_ct  parking_type\n",
              "0        25063  PHOENIX  ...            13.00            GR\n",
              "1        20756  PHOENIX  ...            14.00            GR\n",
              "2        20810  PHOENIX  ...            14.00            GR\n",
              "3        20862  PHOENIX  ...            14.00            GR\n",
              "4        22101  PHOENIX  ...            14.00            GR\n",
              "\n",
              "[5 rows x 15 columns]"
            ]
          },
          "metadata": {},
          "execution_count": 7
        }
      ]
    },
    {
      "cell_type": "markdown",
      "metadata": {
        "id": "CgWSUblWd7sF"
      },
      "source": [
        "## Initial Exploratory Data Analysis"
      ]
    },
    {
      "cell_type": "markdown",
      "metadata": {
        "id": "ZwLyUqdXypAa"
      },
      "source": [
        "### Bar Charts"
      ]
    },
    {
      "cell_type": "code",
      "metadata": {
        "colab": {
          "base_uri": "https://localhost:8080/",
          "height": 368
        },
        "id": "GccDBCpWbN65",
        "outputId": "f8ca8744-8e14-4265-ce9b-b0cbdd124268"
      },
      "source": [
        "\n",
        "df['wall_type'].value_counts().plot(kind = 'bar')\n",
        "\n",
        "plt.title('wall_type')\n",
        "plt.xlabel('wall_type')\n",
        "plt.ylabel('counts');"
      ],
      "execution_count": null,
      "outputs": [
        {
          "output_type": "display_data",
          "data": {
            "image/png": "[encoded data removed]",
            "text/plain": [
              "<Figure size 432x288 with 1 Axes>"
            ]
          },
          "metadata": {
            "needs_background": "light"
          }
        }
      ]
    },
    {
      "cell_type": "code",
      "metadata": {
        "colab": {
          "base_uri": "https://localhost:8080/",
          "height": 371
        },
        "id": "L45V_uTnccA9",
        "outputId": "689d0adb-ef54-4565-cc4d-aa90b3c414fa"
      },
      "source": [
        "df['roof_type'].value_counts().plot(kind = 'bar')\n",
        "\n",
        "plt.title('roof_type')\n",
        "plt.xlabel('roof_type')\n",
        "plt.ylabel('counts');"
      ],
      "execution_count": null,
      "outputs": [
        {
          "output_type": "display_data",
          "data": {
            "image/png": "[encoded data removed]",
            "text/plain": [
              "<Figure size 432x288 with 1 Axes>"
            ]
          },
          "metadata": {
            "needs_background": "light"
          }
        }
      ]
    },
    {
      "cell_type": "code",
      "metadata": {
        "colab": {
          "base_uri": "https://localhost:8080/",
          "height": 308
        },
        "id": "sS4QS29SccM3",
        "outputId": "78494581-75df-43cb-e2d3-61fba1e1464c"
      },
      "source": [
        "df['bath_fixtures_ct'].value_counts().plot(kind = 'bar')\n",
        "\n",
        "plt.title('bath_fixtures_ct')\n",
        "plt.xlabel('bath_fixtures_ct')\n",
        "plt.ylabel('counts');"
      ],
      "execution_count": null,
      "outputs": [
        {
          "output_type": "display_data",
          "data": {
            "image/png": "[encoded data removed]",
            "text/plain": [
              "<Figure size 432x288 with 1 Axes>"
            ]
          },
          "metadata": {
            "needs_background": "light"
          }
        }
      ]
    },
    {
      "cell_type": "code",
      "metadata": {
        "colab": {
          "base_uri": "https://localhost:8080/",
          "height": 301
        },
        "id": "rxC9bAt_ctLN",
        "outputId": "34900250-6c88-471c-c16b-7972bbbb3e7e"
      },
      "source": [
        "df['parking_type'].value_counts().plot(kind = 'bar')\n",
        "\n",
        "plt.title('parking_type')\n",
        "plt.xlabel('parking_type')\n",
        "plt.ylabel('counts');"
      ],
      "execution_count": null,
      "outputs": [
        {
          "output_type": "display_data",
          "data": {
            "image/png": "[encoded data removed]",
            "text/plain": [
              "<Figure size 432x288 with 1 Axes>"
            ]
          },
          "metadata": {
            "needs_background": "light"
          }
        }
      ]
    },
    {
      "cell_type": "code",
      "metadata": {
        "colab": {
          "base_uri": "https://localhost:8080/",
          "height": 374
        },
        "id": "UoVXMo20ctSc",
        "outputId": "698d4ba3-d05f-411a-a486-1e50ecb0841e"
      },
      "source": [
        "df['city'].value_counts().plot(kind = 'bar')\n",
        "\n",
        "plt.title('city')\n",
        "plt.xlabel('city')\n",
        "plt.ylabel('counts');"
      ],
      "execution_count": null,
      "outputs": [
        {
          "output_type": "display_data",
          "data": {
            "image/png": "[encoded data removed]",
            "text/plain": [
              "<Figure size 432x288 with 1 Axes>"
            ]
          },
          "metadata": {
            "needs_background": "light"
          }
        }
      ]
    },
    {
      "cell_type": "code",
      "metadata": {
        "colab": {
          "base_uri": "https://localhost:8080/",
          "height": 1000
        },
        "id": "KcTPNedgctZp",
        "outputId": "714771e7-51be-410e-b422-76adcdad3968"
      },
      "source": [
        "df['build_yr'].value_counts().plot(kind = 'bar', figsize = (20,20))\n",
        "\n",
        "plt.title('build_yr')\n",
        "plt.xlabel('build_yr')\n",
        "plt.ylabel('counts');"
      ],
      "execution_count": null,
      "outputs": [
        {
          "output_type": "display_data",
          "data": {
            "image/png": "[encoded data removed]",
            "text/plain": [
              "<Figure size 1440x1440 with 1 Axes>"
            ]
          },
          "metadata": {
            "needs_background": "light"
          }
        }
      ]
    },
    {
      "cell_type": "markdown",
      "metadata": {
        "id": "phRLIQL0eFal"
      },
      "source": [
        "### Correlations and Scatter Plots"
      ]
    },
    {
      "cell_type": "code",
      "metadata": {
        "colab": {
          "base_uri": "https://localhost:8080/",
          "height": 905
        },
        "id": "sTuZK60MeJe4",
        "outputId": "8b6a1fa7-d797-4ec7-c4b4-1fc0bf89de1d"
      },
      "source": [
        "plt.figure(figsize = (16, 16))\n",
        "sns.heatmap(df.corr(),\n",
        "            linewidths = 0.25,\n",
        "            square = True,\n",
        "            cmap = 'seismic',\n",
        "            linecolor = 'black',\n",
        "            annot = True)\n",
        "\n",
        "plt.title('Correlation Matrix', fontsize = 30);"
      ],
      "execution_count": null,
      "outputs": [
        {
          "output_type": "display_data",
          "data": {
            "image/png": "[encoded data removed]",
            "text/plain": [
              "<Figure size 1152x1152 with 2 Axes>"
            ]
          },
          "metadata": {
            "needs_background": "light"
          }
        }
      ]
    },
    {
      "cell_type": "markdown",
      "metadata": {
        "id": "JkzBjW2exyo8"
      },
      "source": [
        "### Scatter Plots"
      ]
    },
    {
      "cell_type": "code",
      "metadata": {
        "colab": {
          "base_uri": "https://localhost:8080/",
          "height": 509
        },
        "id": "J09II4wtgieZ",
        "outputId": "2281c40a-b28d-4129-802f-7c77f11679b2"
      },
      "source": [
        "df.plot(kind = 'scatter',\n",
        "        x = 'build_size_sf',\n",
        "        y = 'price_usd',\n",
        "        figsize = (8,8),\n",
        "        alpha = 0.8);"
      ],
      "execution_count": null,
      "outputs": [
        {
          "output_type": "display_data",
          "data": {
            "image/png": "[encoded data removed]",
            "text/plain": [
              "<Figure size 576x576 with 1 Axes>"
            ]
          },
          "metadata": {
            "needs_background": "light"
          }
        }
      ]
    },
    {
      "cell_type": "code",
      "metadata": {
        "colab": {
          "base_uri": "https://localhost:8080/",
          "height": 509
        },
        "id": "qMDSmCNZhBGA",
        "outputId": "d10bf101-a6e4-4986-d5ea-aa83c48203e0"
      },
      "source": [
        "df.plot(kind = 'scatter',\n",
        "        x = 'lot_size_sf',\n",
        "        y = 'price_usd',\n",
        "        figsize = (8,8),\n",
        "        alpha = 0.8);"
      ],
      "execution_count": null,
      "outputs": [
        {
          "output_type": "display_data",
          "data": {
            "image/png": "[encoded data removed]",
            "text/plain": [
              "<Figure size 576x576 with 1 Axes>"
            ]
          },
          "metadata": {
            "needs_background": "light"
          }
        }
      ]
    },
    {
      "cell_type": "code",
      "metadata": {
        "colab": {
          "base_uri": "https://localhost:8080/",
          "height": 309
        },
        "id": "JcbAWBoyc8lP",
        "outputId": "be71ec17-4712-4da0-b3a8-7d9944a949c9"
      },
      "source": [
        "df.head()"
      ],
      "execution_count": null,
      "outputs": [
        {
          "output_type": "execute_result",
          "data": {
            "text/html": [
              "<div>\n",
              "<style scoped>\n",
              "    .dataframe tbody tr th:only-of-type {\n",
              "        vertical-align: middle;\n",
              "    }\n",
              "\n",
              "    .dataframe tbody tr th {\n",
              "        vertical-align: top;\n",
              "    }\n",
              "\n",
              "    .dataframe thead th {\n",
              "        text-align: right;\n",
              "    }\n",
              "</style>\n",
              "<table border=\"1\" class=\"dataframe\">\n",
              "  <thead>\n",
              "    <tr style=\"text-align: right;\">\n",
              "      <th></th>\n",
              "      <th>lot_size_sf</th>\n",
              "      <th>city</th>\n",
              "      <th>deed_date</th>\n",
              "      <th>price_usd</th>\n",
              "      <th>sale_date</th>\n",
              "      <th>lat</th>\n",
              "      <th>lon</th>\n",
              "      <th>build_yr</th>\n",
              "      <th>build_size_sf</th>\n",
              "      <th>patio_ct</th>\n",
              "      <th>patio_type</th>\n",
              "      <th>wall_type</th>\n",
              "      <th>roof_type</th>\n",
              "      <th>bath_fixtures_ct</th>\n",
              "      <th>parking_type</th>\n",
              "    </tr>\n",
              "  </thead>\n",
              "  <tbody>\n",
              "    <tr>\n",
              "      <th>0</th>\n",
              "      <td>25063</td>\n",
              "      <td>PHOENIX</td>\n",
              "      <td>04/24/2020</td>\n",
              "      <td>525000.000000</td>\n",
              "      <td>04/01/2020</td>\n",
              "      <td>33.352338</td>\n",
              "      <td>-112.156826</td>\n",
              "      <td>2007.000000</td>\n",
              "      <td>4917.000000</td>\n",
              "      <td>2.000000</td>\n",
              "      <td>Covered</td>\n",
              "      <td>Frame Wood</td>\n",
              "      <td>Concrete Tile</td>\n",
              "      <td>13.000000</td>\n",
              "      <td>GR</td>\n",
              "    </tr>\n",
              "    <tr>\n",
              "      <th>1</th>\n",
              "      <td>20756</td>\n",
              "      <td>PHOENIX</td>\n",
              "      <td>11/14/2017</td>\n",
              "      <td>337500.000000</td>\n",
              "      <td>11/01/2017</td>\n",
              "      <td>33.352386</td>\n",
              "      <td>-112.157233</td>\n",
              "      <td>2007.000000</td>\n",
              "      <td>2938.000000</td>\n",
              "      <td>2.000000</td>\n",
              "      <td>Covered</td>\n",
              "      <td>Frame Wood</td>\n",
              "      <td>Concrete Tile</td>\n",
              "      <td>14.000000</td>\n",
              "      <td>GR</td>\n",
              "    </tr>\n",
              "    <tr>\n",
              "      <th>2</th>\n",
              "      <td>20810</td>\n",
              "      <td>PHOENIX</td>\n",
              "      <td>04/03/2020</td>\n",
              "      <td>545000.000000</td>\n",
              "      <td>03/01/2020</td>\n",
              "      <td>33.352385</td>\n",
              "      <td>-112.157580</td>\n",
              "      <td>2007.000000</td>\n",
              "      <td>5588.000000</td>\n",
              "      <td>2.000000</td>\n",
              "      <td>Covered Slab</td>\n",
              "      <td>Frame Wood</td>\n",
              "      <td>Concrete Tile</td>\n",
              "      <td>14.000000</td>\n",
              "      <td>GR</td>\n",
              "    </tr>\n",
              "    <tr>\n",
              "      <th>3</th>\n",
              "      <td>20862</td>\n",
              "      <td>PHOENIX</td>\n",
              "      <td>07/16/2020</td>\n",
              "      <td>550000.000000</td>\n",
              "      <td>05/01/2020</td>\n",
              "      <td>33.352384</td>\n",
              "      <td>-112.157927</td>\n",
              "      <td>2007.000000</td>\n",
              "      <td>3849.000000</td>\n",
              "      <td>4.000000</td>\n",
              "      <td>Covered Slab</td>\n",
              "      <td>Frame Stucco</td>\n",
              "      <td>Concrete Tile</td>\n",
              "      <td>14.000000</td>\n",
              "      <td>GR</td>\n",
              "    </tr>\n",
              "    <tr>\n",
              "      <th>4</th>\n",
              "      <td>22101</td>\n",
              "      <td>PHOENIX</td>\n",
              "      <td>04/10/2019</td>\n",
              "      <td>nan</td>\n",
              "      <td>NaN</td>\n",
              "      <td>33.352383</td>\n",
              "      <td>-112.158284</td>\n",
              "      <td>2007.000000</td>\n",
              "      <td>5588.000000</td>\n",
              "      <td>2.000000</td>\n",
              "      <td>Covered Slab</td>\n",
              "      <td>Frame Wood</td>\n",
              "      <td>Concrete Tile</td>\n",
              "      <td>14.000000</td>\n",
              "      <td>GR</td>\n",
              "    </tr>\n",
              "  </tbody>\n",
              "</table>\n",
              "</div>"
            ],
            "text/plain": [
              "   lot_size_sf     city  ... bath_fixtures_ct  parking_type\n",
              "0        25063  PHOENIX  ...        13.000000            GR\n",
              "1        20756  PHOENIX  ...        14.000000            GR\n",
              "2        20810  PHOENIX  ...        14.000000            GR\n",
              "3        20862  PHOENIX  ...        14.000000            GR\n",
              "4        22101  PHOENIX  ...        14.000000            GR\n",
              "\n",
              "[5 rows x 15 columns]"
            ]
          },
          "metadata": {},
          "execution_count": 62
        }
      ]
    },
    {
      "cell_type": "code",
      "metadata": {
        "id": "AJq2lTaKhBPH",
        "colab": {
          "base_uri": "https://localhost:8080/",
          "height": 687
        },
        "outputId": "250f3836-420b-471d-f270-4de6c63d4dd2"
      },
      "source": [
        "df.plot(\n",
        "    kind = 'scatter',\n",
        "    x = 'lat',\n",
        "    y = 'lon',\n",
        "    figsize = (12,12),\n",
        "    c = np.log(df['price_usd']),\n",
        "    cmap = plt.get_cmap('jet'),\n",
        "    colorbar = True,\n",
        "    alpha = 0.8);"
      ],
      "execution_count": null,
      "outputs": [
        {
          "output_type": "display_data",
          "data": {
            "image/png": "[encoded data removed]",
            "text/plain": [
              "<Figure size 864x864 with 2 Axes>"
            ]
          },
          "metadata": {
            "needs_background": "light"
          }
        }
      ]
    },
    {
      "cell_type": "markdown",
      "metadata": {
        "id": "SpGg0uaazJap"
      },
      "source": [
        "## Data Cleaning"
      ]
    },
    {
      "cell_type": "code",
      "metadata": {
        "colab": {
          "base_uri": "https://localhost:8080/"
        },
        "id": "ekQJI0zOy9Nz",
        "outputId": "508d13c3-5c08-46c7-eaea-d9281adebd9e"
      },
      "source": [
        "df.isna().sum().sort_values(ascending = False)"
      ],
      "execution_count": null,
      "outputs": [
        {
          "output_type": "execute_result",
          "data": {
            "text/plain": [
              "price_usd           4241\n",
              "sale_date           4235\n",
              "parking_type         632\n",
              "lon                   33\n",
              "lat                   33\n",
              "deed_date              5\n",
              "bath_fixtures_ct       2\n",
              "roof_type              1\n",
              "wall_type              1\n",
              "patio_type             1\n",
              "patio_ct               1\n",
              "build_size_sf          1\n",
              "build_yr               1\n",
              "city                   0\n",
              "lot_size_sf            0\n",
              "dtype: int64"
            ]
          },
          "metadata": {},
          "execution_count": 23
        }
      ]
    },
    {
      "cell_type": "markdown",
      "metadata": {
        "id": "0HaoP8L6zRNc"
      },
      "source": [
        "### Rows without Price Data"
      ]
    },
    {
      "cell_type": "code",
      "metadata": {
        "id": "IZL0iY5YjHvf"
      },
      "source": [
        "no_price_df = df[df['price_usd'].notna()==False]"
      ],
      "execution_count": null,
      "outputs": []
    },
    {
      "cell_type": "code",
      "metadata": {
        "colab": {
          "base_uri": "https://localhost:8080/"
        },
        "id": "uTCJtIR7jQAh",
        "outputId": "bd7b0b04-5688-4575-caca-90459b7c9e9d"
      },
      "source": [
        "no_price_df.shape"
      ],
      "execution_count": null,
      "outputs": [
        {
          "output_type": "execute_result",
          "data": {
            "text/plain": [
              "(4241, 15)"
            ]
          },
          "metadata": {},
          "execution_count": 25
        }
      ]
    },
    {
      "cell_type": "code",
      "metadata": {
        "colab": {
          "base_uri": "https://localhost:8080/"
        },
        "id": "cqzmU8-flOzM",
        "outputId": "3266c75d-1b47-40ea-d1ed-4d6cac2e2a03"
      },
      "source": [
        "no_price_df.isna().sum()"
      ],
      "execution_count": null,
      "outputs": [
        {
          "output_type": "execute_result",
          "data": {
            "text/plain": [
              "lot_size_sf            0\n",
              "city                   0\n",
              "deed_date              5\n",
              "price_usd           4241\n",
              "sale_date           4235\n",
              "lat                   13\n",
              "lon                   13\n",
              "build_yr               1\n",
              "build_size_sf          1\n",
              "patio_ct               1\n",
              "patio_type             1\n",
              "wall_type              1\n",
              "roof_type              1\n",
              "bath_fixtures_ct       2\n",
              "parking_type         347\n",
              "dtype: int64"
            ]
          },
          "metadata": {},
          "execution_count": 26
        }
      ]
    },
    {
      "cell_type": "code",
      "metadata": {
        "colab": {
          "base_uri": "https://localhost:8080/"
        },
        "id": "fy4F7inZlV0p",
        "outputId": "cf5acbd4-6f95-419e-bd0b-16be51c2c6d8"
      },
      "source": [
        "no_price_df.isna().mean()"
      ],
      "execution_count": null,
      "outputs": [
        {
          "output_type": "execute_result",
          "data": {
            "text/plain": [
              "lot_size_sf        0.00\n",
              "city               0.00\n",
              "deed_date          0.00\n",
              "price_usd          1.00\n",
              "sale_date          1.00\n",
              "lat                0.00\n",
              "lon                0.00\n",
              "build_yr           0.00\n",
              "build_size_sf      0.00\n",
              "patio_ct           0.00\n",
              "patio_type         0.00\n",
              "wall_type          0.00\n",
              "roof_type          0.00\n",
              "bath_fixtures_ct   0.00\n",
              "parking_type       0.08\n",
              "dtype: float64"
            ]
          },
          "metadata": {},
          "execution_count": 27
        }
      ]
    },
    {
      "cell_type": "code",
      "metadata": {
        "id": "_niKqxcElg-Z"
      },
      "source": [
        "no_price_df.drop(['price_usd', 'sale_date'], axis = 1, inplace = True)"
      ],
      "execution_count": null,
      "outputs": []
    },
    {
      "cell_type": "code",
      "metadata": {
        "colab": {
          "base_uri": "https://localhost:8080/"
        },
        "id": "md6Gbrd-mNjP",
        "outputId": "8a451b57-097a-4b39-d392-b462fa552ae0"
      },
      "source": [
        "no_price_df.shape"
      ],
      "execution_count": null,
      "outputs": [
        {
          "output_type": "execute_result",
          "data": {
            "text/plain": [
              "(4241, 13)"
            ]
          },
          "metadata": {},
          "execution_count": 29
        }
      ]
    },
    {
      "cell_type": "code",
      "metadata": {
        "id": "WseEU7TWmKoS"
      },
      "source": [
        "no_price_df.dropna(axis = 0, inplace = True)"
      ],
      "execution_count": null,
      "outputs": []
    },
    {
      "cell_type": "code",
      "metadata": {
        "colab": {
          "base_uri": "https://localhost:8080/"
        },
        "id": "8knbypkfmZbc",
        "outputId": "6d44f667-4b1f-43be-bcb6-8bf3e6550669"
      },
      "source": [
        "no_price_df.isna().sum()"
      ],
      "execution_count": null,
      "outputs": [
        {
          "output_type": "execute_result",
          "data": {
            "text/plain": [
              "lot_size_sf         0\n",
              "city                0\n",
              "deed_date           0\n",
              "lat                 0\n",
              "lon                 0\n",
              "build_yr            0\n",
              "build_size_sf       0\n",
              "patio_ct            0\n",
              "patio_type          0\n",
              "wall_type           0\n",
              "roof_type           0\n",
              "bath_fixtures_ct    0\n",
              "parking_type        0\n",
              "dtype: int64"
            ]
          },
          "metadata": {},
          "execution_count": 31
        }
      ]
    },
    {
      "cell_type": "code",
      "metadata": {
        "colab": {
          "base_uri": "https://localhost:8080/"
        },
        "id": "nwhyXS92md1h",
        "outputId": "d795c1af-b101-4b9c-f644-2d648aa06b29"
      },
      "source": [
        "no_price_df.shape"
      ],
      "execution_count": null,
      "outputs": [
        {
          "output_type": "execute_result",
          "data": {
            "text/plain": [
              "(3876, 13)"
            ]
          },
          "metadata": {},
          "execution_count": 32
        }
      ]
    },
    {
      "cell_type": "markdown",
      "metadata": {
        "id": "TtEbljsbzMwH"
      },
      "source": [
        "### Rows with Price Data"
      ]
    },
    {
      "cell_type": "code",
      "metadata": {
        "id": "LOoqGhGQidYm"
      },
      "source": [
        "price_df = df[df['price_usd'].notna()==True]"
      ],
      "execution_count": null,
      "outputs": []
    },
    {
      "cell_type": "code",
      "metadata": {
        "colab": {
          "base_uri": "https://localhost:8080/"
        },
        "id": "rpoOdr5njCdM",
        "outputId": "d3c693be-5ed9-4785-a5f1-2b8748b6109f"
      },
      "source": [
        "price_df.shape"
      ],
      "execution_count": null,
      "outputs": [
        {
          "output_type": "execute_result",
          "data": {
            "text/plain": [
              "(6149, 15)"
            ]
          },
          "metadata": {},
          "execution_count": 34
        }
      ]
    },
    {
      "cell_type": "code",
      "metadata": {
        "colab": {
          "base_uri": "https://localhost:8080/"
        },
        "id": "GNBCAUvtjYyX",
        "outputId": "105f8a93-cf33-4f9e-b2cb-f31a1f22b4b3"
      },
      "source": [
        "price_df.isna().sum()"
      ],
      "execution_count": null,
      "outputs": [
        {
          "output_type": "execute_result",
          "data": {
            "text/plain": [
              "lot_size_sf           0\n",
              "city                  0\n",
              "deed_date             0\n",
              "price_usd             0\n",
              "sale_date             0\n",
              "lat                  20\n",
              "lon                  20\n",
              "build_yr              0\n",
              "build_size_sf         0\n",
              "patio_ct              0\n",
              "patio_type            0\n",
              "wall_type             0\n",
              "roof_type             0\n",
              "bath_fixtures_ct      0\n",
              "parking_type        285\n",
              "dtype: int64"
            ]
          },
          "metadata": {},
          "execution_count": 35
        }
      ]
    },
    {
      "cell_type": "code",
      "metadata": {
        "id": "9XY22e-0jyoA"
      },
      "source": [
        "price_df.dropna(subset = ['parking_type', 'lat', 'lon'], axis = 0, inplace = True)"
      ],
      "execution_count": null,
      "outputs": []
    },
    {
      "cell_type": "code",
      "metadata": {
        "colab": {
          "base_uri": "https://localhost:8080/"
        },
        "id": "mLmrJr4hkORR",
        "outputId": "05abe9ae-1b86-4904-d40c-2378dc9220a0"
      },
      "source": [
        "price_df.shape"
      ],
      "execution_count": null,
      "outputs": [
        {
          "output_type": "execute_result",
          "data": {
            "text/plain": [
              "(5847, 15)"
            ]
          },
          "metadata": {},
          "execution_count": 37
        }
      ]
    },
    {
      "cell_type": "code",
      "metadata": {
        "id": "sIbrsPiNrR7h"
      },
      "source": [
        "price_df['deed_date'] = pd.to_datetime(price_df['deed_date'])"
      ],
      "execution_count": null,
      "outputs": []
    },
    {
      "cell_type": "code",
      "metadata": {
        "id": "6A1ABRYiruKr"
      },
      "source": [
        "price_df['sale_date'] = pd.to_datetime(price_df['sale_date'])"
      ],
      "execution_count": null,
      "outputs": []
    },
    {
      "cell_type": "markdown",
      "metadata": {
        "id": "k0n6wjG6zyWB"
      },
      "source": [
        "### One-Hot Encoding Categorical Values"
      ]
    },
    {
      "cell_type": "code",
      "metadata": {
        "id": "Ixic12fbmmYl"
      },
      "source": [
        "city = pd.get_dummies(price_df['city'])\n",
        "patio_type = pd.get_dummies(price_df['patio_type'])\n",
        "wall_type = pd.get_dummies(price_df['wall_type'])\n",
        "roof_type = pd.get_dummies(price_df['roof_type'])\n",
        "parking_type = pd.get_dummies(price_df['parking_type'])"
      ],
      "execution_count": null,
      "outputs": []
    },
    {
      "cell_type": "code",
      "metadata": {
        "id": "Xfe5Z0HInPGU"
      },
      "source": [
        "price_master_df = pd.concat([price_df, city, patio_type, wall_type, roof_type, parking_type], axis = 1)"
      ],
      "execution_count": null,
      "outputs": []
    },
    {
      "cell_type": "code",
      "metadata": {
        "colab": {
          "base_uri": "https://localhost:8080/",
          "height": 343
        },
        "id": "yYl91668n-fx",
        "outputId": "7bc4ed1f-c55d-47cc-ca8c-dfcaa4f6b066"
      },
      "source": [
        "price_master_df.head()"
      ],
      "execution_count": null,
      "outputs": [
        {
          "output_type": "execute_result",
          "data": {
            "text/html": [
              "<div>\n",
              "<style scoped>\n",
              "    .dataframe tbody tr th:only-of-type {\n",
              "        vertical-align: middle;\n",
              "    }\n",
              "\n",
              "    .dataframe tbody tr th {\n",
              "        vertical-align: top;\n",
              "    }\n",
              "\n",
              "    .dataframe thead th {\n",
              "        text-align: right;\n",
              "    }\n",
              "</style>\n",
              "<table border=\"1\" class=\"dataframe\">\n",
              "  <thead>\n",
              "    <tr style=\"text-align: right;\">\n",
              "      <th></th>\n",
              "      <th>lot_size_sf</th>\n",
              "      <th>city</th>\n",
              "      <th>deed_date</th>\n",
              "      <th>price_usd</th>\n",
              "      <th>sale_date</th>\n",
              "      <th>lat</th>\n",
              "      <th>lon</th>\n",
              "      <th>build_yr</th>\n",
              "      <th>build_size_sf</th>\n",
              "      <th>patio_ct</th>\n",
              "      <th>patio_type</th>\n",
              "      <th>wall_type</th>\n",
              "      <th>roof_type</th>\n",
              "      <th>bath_fixtures_ct</th>\n",
              "      <th>parking_type</th>\n",
              "      <th>AVONDALE</th>\n",
              "      <th>BUCKEYE</th>\n",
              "      <th>CAREFREE</th>\n",
              "      <th>CAVE CREEK</th>\n",
              "      <th>CHANDLER</th>\n",
              "      <th>FOUNTAIN HILLS</th>\n",
              "      <th>GILBERT</th>\n",
              "      <th>GLENDALE</th>\n",
              "      <th>GOODYEAR</th>\n",
              "      <th>LITCHFIELD PARK</th>\n",
              "      <th>MESA</th>\n",
              "      <th>NO CITY/TOWN</th>\n",
              "      <th>PARADISE VALLEY</th>\n",
              "      <th>PEORIA</th>\n",
              "      <th>PHOENIX</th>\n",
              "      <th>QUEEN CREEK</th>\n",
              "      <th>SCOTTSDALE</th>\n",
              "      <th>SURPRISE</th>\n",
              "      <th>TEMPE</th>\n",
              "      <th>TOLLESON</th>\n",
              "      <th>WICKENBURG</th>\n",
              "      <th>Covered</th>\n",
              "      <th>Covered Slab</th>\n",
              "      <th>None</th>\n",
              "      <th>Slab</th>\n",
              "      <th>8\" Painted Block</th>\n",
              "      <th>8\" Stucco</th>\n",
              "      <th>Adobe</th>\n",
              "      <th>Brick</th>\n",
              "      <th>Frame Brick</th>\n",
              "      <th>Frame Stucco</th>\n",
              "      <th>Frame Wood</th>\n",
              "      <th>Other</th>\n",
              "      <th>Slump Block</th>\n",
              "      <th>Asbestos Shingle</th>\n",
              "      <th>Asphalt Shingle</th>\n",
              "      <th>Built Up</th>\n",
              "      <th>Concrete Tile</th>\n",
              "      <th>Metal</th>\n",
              "      <th>Roll</th>\n",
              "      <th>Slate</th>\n",
              "      <th>Tile</th>\n",
              "      <th>Wood</th>\n",
              "      <th>CP</th>\n",
              "      <th>GR</th>\n",
              "    </tr>\n",
              "  </thead>\n",
              "  <tbody>\n",
              "    <tr>\n",
              "      <th>0</th>\n",
              "      <td>25063</td>\n",
              "      <td>PHOENIX</td>\n",
              "      <td>2020-04-24</td>\n",
              "      <td>525000.00</td>\n",
              "      <td>2020-04-01</td>\n",
              "      <td>33.35</td>\n",
              "      <td>-112.16</td>\n",
              "      <td>2007.00</td>\n",
              "      <td>4917.00</td>\n",
              "      <td>2.00</td>\n",
              "      <td>Covered</td>\n",
              "      <td>Frame Wood</td>\n",
              "      <td>Concrete Tile</td>\n",
              "      <td>13.00</td>\n",
              "      <td>GR</td>\n",
              "      <td>0</td>\n",
              "      <td>0</td>\n",
              "      <td>0</td>\n",
              "      <td>0</td>\n",
              "      <td>0</td>\n",
              "      <td>0</td>\n",
              "      <td>0</td>\n",
              "      <td>0</td>\n",
              "      <td>0</td>\n",
              "      <td>0</td>\n",
              "      <td>0</td>\n",
              "      <td>0</td>\n",
              "      <td>0</td>\n",
              "      <td>0</td>\n",
              "      <td>1</td>\n",
              "      <td>0</td>\n",
              "      <td>0</td>\n",
              "      <td>0</td>\n",
              "      <td>0</td>\n",
              "      <td>0</td>\n",
              "      <td>0</td>\n",
              "      <td>1</td>\n",
              "      <td>0</td>\n",
              "      <td>0</td>\n",
              "      <td>0</td>\n",
              "      <td>0</td>\n",
              "      <td>0</td>\n",
              "      <td>0</td>\n",
              "      <td>0</td>\n",
              "      <td>0</td>\n",
              "      <td>0</td>\n",
              "      <td>1</td>\n",
              "      <td>0</td>\n",
              "      <td>0</td>\n",
              "      <td>0</td>\n",
              "      <td>0</td>\n",
              "      <td>0</td>\n",
              "      <td>1</td>\n",
              "      <td>0</td>\n",
              "      <td>0</td>\n",
              "      <td>0</td>\n",
              "      <td>0</td>\n",
              "      <td>0</td>\n",
              "      <td>0</td>\n",
              "      <td>1</td>\n",
              "    </tr>\n",
              "    <tr>\n",
              "      <th>1</th>\n",
              "      <td>20756</td>\n",
              "      <td>PHOENIX</td>\n",
              "      <td>2017-11-14</td>\n",
              "      <td>337500.00</td>\n",
              "      <td>2017-11-01</td>\n",
              "      <td>33.35</td>\n",
              "      <td>-112.16</td>\n",
              "      <td>2007.00</td>\n",
              "      <td>2938.00</td>\n",
              "      <td>2.00</td>\n",
              "      <td>Covered</td>\n",
              "      <td>Frame Wood</td>\n",
              "      <td>Concrete Tile</td>\n",
              "      <td>14.00</td>\n",
              "      <td>GR</td>\n",
              "      <td>0</td>\n",
              "      <td>0</td>\n",
              "      <td>0</td>\n",
              "      <td>0</td>\n",
              "      <td>0</td>\n",
              "      <td>0</td>\n",
              "      <td>0</td>\n",
              "      <td>0</td>\n",
              "      <td>0</td>\n",
              "      <td>0</td>\n",
              "      <td>0</td>\n",
              "      <td>0</td>\n",
              "      <td>0</td>\n",
              "      <td>0</td>\n",
              "      <td>1</td>\n",
              "      <td>0</td>\n",
              "      <td>0</td>\n",
              "      <td>0</td>\n",
              "      <td>0</td>\n",
              "      <td>0</td>\n",
              "      <td>0</td>\n",
              "      <td>1</td>\n",
              "      <td>0</td>\n",
              "      <td>0</td>\n",
              "      <td>0</td>\n",
              "      <td>0</td>\n",
              "      <td>0</td>\n",
              "      <td>0</td>\n",
              "      <td>0</td>\n",
              "      <td>0</td>\n",
              "      <td>0</td>\n",
              "      <td>1</td>\n",
              "      <td>0</td>\n",
              "      <td>0</td>\n",
              "      <td>0</td>\n",
              "      <td>0</td>\n",
              "      <td>0</td>\n",
              "      <td>1</td>\n",
              "      <td>0</td>\n",
              "      <td>0</td>\n",
              "      <td>0</td>\n",
              "      <td>0</td>\n",
              "      <td>0</td>\n",
              "      <td>0</td>\n",
              "      <td>1</td>\n",
              "    </tr>\n",
              "    <tr>\n",
              "      <th>2</th>\n",
              "      <td>20810</td>\n",
              "      <td>PHOENIX</td>\n",
              "      <td>2020-04-03</td>\n",
              "      <td>545000.00</td>\n",
              "      <td>2020-03-01</td>\n",
              "      <td>33.35</td>\n",
              "      <td>-112.16</td>\n",
              "      <td>2007.00</td>\n",
              "      <td>5588.00</td>\n",
              "      <td>2.00</td>\n",
              "      <td>Covered Slab</td>\n",
              "      <td>Frame Wood</td>\n",
              "      <td>Concrete Tile</td>\n",
              "      <td>14.00</td>\n",
              "      <td>GR</td>\n",
              "      <td>0</td>\n",
              "      <td>0</td>\n",
              "      <td>0</td>\n",
              "      <td>0</td>\n",
              "      <td>0</td>\n",
              "      <td>0</td>\n",
              "      <td>0</td>\n",
              "      <td>0</td>\n",
              "      <td>0</td>\n",
              "      <td>0</td>\n",
              "      <td>0</td>\n",
              "      <td>0</td>\n",
              "      <td>0</td>\n",
              "      <td>0</td>\n",
              "      <td>1</td>\n",
              "      <td>0</td>\n",
              "      <td>0</td>\n",
              "      <td>0</td>\n",
              "      <td>0</td>\n",
              "      <td>0</td>\n",
              "      <td>0</td>\n",
              "      <td>0</td>\n",
              "      <td>1</td>\n",
              "      <td>0</td>\n",
              "      <td>0</td>\n",
              "      <td>0</td>\n",
              "      <td>0</td>\n",
              "      <td>0</td>\n",
              "      <td>0</td>\n",
              "      <td>0</td>\n",
              "      <td>0</td>\n",
              "      <td>1</td>\n",
              "      <td>0</td>\n",
              "      <td>0</td>\n",
              "      <td>0</td>\n",
              "      <td>0</td>\n",
              "      <td>0</td>\n",
              "      <td>1</td>\n",
              "      <td>0</td>\n",
              "      <td>0</td>\n",
              "      <td>0</td>\n",
              "      <td>0</td>\n",
              "      <td>0</td>\n",
              "      <td>0</td>\n",
              "      <td>1</td>\n",
              "    </tr>\n",
              "    <tr>\n",
              "      <th>3</th>\n",
              "      <td>20862</td>\n",
              "      <td>PHOENIX</td>\n",
              "      <td>2020-07-16</td>\n",
              "      <td>550000.00</td>\n",
              "      <td>2020-05-01</td>\n",
              "      <td>33.35</td>\n",
              "      <td>-112.16</td>\n",
              "      <td>2007.00</td>\n",
              "      <td>3849.00</td>\n",
              "      <td>4.00</td>\n",
              "      <td>Covered Slab</td>\n",
              "      <td>Frame Stucco</td>\n",
              "      <td>Concrete Tile</td>\n",
              "      <td>14.00</td>\n",
              "      <td>GR</td>\n",
              "      <td>0</td>\n",
              "      <td>0</td>\n",
              "      <td>0</td>\n",
              "      <td>0</td>\n",
              "      <td>0</td>\n",
              "      <td>0</td>\n",
              "      <td>0</td>\n",
              "      <td>0</td>\n",
              "      <td>0</td>\n",
              "      <td>0</td>\n",
              "      <td>0</td>\n",
              "      <td>0</td>\n",
              "      <td>0</td>\n",
              "      <td>0</td>\n",
              "      <td>1</td>\n",
              "      <td>0</td>\n",
              "      <td>0</td>\n",
              "      <td>0</td>\n",
              "      <td>0</td>\n",
              "      <td>0</td>\n",
              "      <td>0</td>\n",
              "      <td>0</td>\n",
              "      <td>1</td>\n",
              "      <td>0</td>\n",
              "      <td>0</td>\n",
              "      <td>0</td>\n",
              "      <td>0</td>\n",
              "      <td>0</td>\n",
              "      <td>0</td>\n",
              "      <td>0</td>\n",
              "      <td>1</td>\n",
              "      <td>0</td>\n",
              "      <td>0</td>\n",
              "      <td>0</td>\n",
              "      <td>0</td>\n",
              "      <td>0</td>\n",
              "      <td>0</td>\n",
              "      <td>1</td>\n",
              "      <td>0</td>\n",
              "      <td>0</td>\n",
              "      <td>0</td>\n",
              "      <td>0</td>\n",
              "      <td>0</td>\n",
              "      <td>0</td>\n",
              "      <td>1</td>\n",
              "    </tr>\n",
              "    <tr>\n",
              "      <th>5</th>\n",
              "      <td>18274</td>\n",
              "      <td>PHOENIX</td>\n",
              "      <td>2016-12-28</td>\n",
              "      <td>430000.00</td>\n",
              "      <td>2016-12-01</td>\n",
              "      <td>33.35</td>\n",
              "      <td>-112.16</td>\n",
              "      <td>2007.00</td>\n",
              "      <td>5588.00</td>\n",
              "      <td>3.00</td>\n",
              "      <td>Covered Slab</td>\n",
              "      <td>Frame Wood</td>\n",
              "      <td>Concrete Tile</td>\n",
              "      <td>14.00</td>\n",
              "      <td>GR</td>\n",
              "      <td>0</td>\n",
              "      <td>0</td>\n",
              "      <td>0</td>\n",
              "      <td>0</td>\n",
              "      <td>0</td>\n",
              "      <td>0</td>\n",
              "      <td>0</td>\n",
              "      <td>0</td>\n",
              "      <td>0</td>\n",
              "      <td>0</td>\n",
              "      <td>0</td>\n",
              "      <td>0</td>\n",
              "      <td>0</td>\n",
              "      <td>0</td>\n",
              "      <td>1</td>\n",
              "      <td>0</td>\n",
              "      <td>0</td>\n",
              "      <td>0</td>\n",
              "      <td>0</td>\n",
              "      <td>0</td>\n",
              "      <td>0</td>\n",
              "      <td>0</td>\n",
              "      <td>1</td>\n",
              "      <td>0</td>\n",
              "      <td>0</td>\n",
              "      <td>0</td>\n",
              "      <td>0</td>\n",
              "      <td>0</td>\n",
              "      <td>0</td>\n",
              "      <td>0</td>\n",
              "      <td>0</td>\n",
              "      <td>1</td>\n",
              "      <td>0</td>\n",
              "      <td>0</td>\n",
              "      <td>0</td>\n",
              "      <td>0</td>\n",
              "      <td>0</td>\n",
              "      <td>1</td>\n",
              "      <td>0</td>\n",
              "      <td>0</td>\n",
              "      <td>0</td>\n",
              "      <td>0</td>\n",
              "      <td>0</td>\n",
              "      <td>0</td>\n",
              "      <td>1</td>\n",
              "    </tr>\n",
              "  </tbody>\n",
              "</table>\n",
              "</div>"
            ],
            "text/plain": [
              "   lot_size_sf     city  deed_date  price_usd  ... Tile  Wood  CP  GR\n",
              "0        25063  PHOENIX 2020-04-24  525000.00  ...    0     0   0   1\n",
              "1        20756  PHOENIX 2017-11-14  337500.00  ...    0     0   0   1\n",
              "2        20810  PHOENIX 2020-04-03  545000.00  ...    0     0   0   1\n",
              "3        20862  PHOENIX 2020-07-16  550000.00  ...    0     0   0   1\n",
              "5        18274  PHOENIX 2016-12-28  430000.00  ...    0     0   0   1\n",
              "\n",
              "[5 rows x 60 columns]"
            ]
          },
          "metadata": {},
          "execution_count": 42
        }
      ]
    },
    {
      "cell_type": "markdown",
      "metadata": {
        "id": "DQrth-HMz5bu"
      },
      "source": [
        "### Numeric Data Only"
      ]
    },
    {
      "cell_type": "code",
      "metadata": {
        "id": "f-Z0OYHRq_9R"
      },
      "source": [
        "numeric_data = price_master_df.select_dtypes(include='number')"
      ],
      "execution_count": null,
      "outputs": []
    },
    {
      "cell_type": "code",
      "metadata": {
        "colab": {
          "base_uri": "https://localhost:8080/",
          "height": 258
        },
        "id": "wN3nIkx4r2Uc",
        "outputId": "e27f2ead-cb36-4aa0-bfd9-410a7950810e"
      },
      "source": [
        "numeric_data.head()"
      ],
      "execution_count": null,
      "outputs": [
        {
          "output_type": "execute_result",
          "data": {
            "text/html": [
              "<div>\n",
              "<style scoped>\n",
              "    .dataframe tbody tr th:only-of-type {\n",
              "        vertical-align: middle;\n",
              "    }\n",
              "\n",
              "    .dataframe tbody tr th {\n",
              "        vertical-align: top;\n",
              "    }\n",
              "\n",
              "    .dataframe thead th {\n",
              "        text-align: right;\n",
              "    }\n",
              "</style>\n",
              "<table border=\"1\" class=\"dataframe\">\n",
              "  <thead>\n",
              "    <tr style=\"text-align: right;\">\n",
              "      <th></th>\n",
              "      <th>lot_size_sf</th>\n",
              "      <th>price_usd</th>\n",
              "      <th>lat</th>\n",
              "      <th>lon</th>\n",
              "      <th>build_yr</th>\n",
              "      <th>build_size_sf</th>\n",
              "      <th>patio_ct</th>\n",
              "      <th>bath_fixtures_ct</th>\n",
              "      <th>AVONDALE</th>\n",
              "      <th>BUCKEYE</th>\n",
              "      <th>CAREFREE</th>\n",
              "      <th>CAVE CREEK</th>\n",
              "      <th>CHANDLER</th>\n",
              "      <th>FOUNTAIN HILLS</th>\n",
              "      <th>GILBERT</th>\n",
              "      <th>GLENDALE</th>\n",
              "      <th>GOODYEAR</th>\n",
              "      <th>LITCHFIELD PARK</th>\n",
              "      <th>MESA</th>\n",
              "      <th>NO CITY/TOWN</th>\n",
              "      <th>PARADISE VALLEY</th>\n",
              "      <th>PEORIA</th>\n",
              "      <th>PHOENIX</th>\n",
              "      <th>QUEEN CREEK</th>\n",
              "      <th>SCOTTSDALE</th>\n",
              "      <th>SURPRISE</th>\n",
              "      <th>TEMPE</th>\n",
              "      <th>TOLLESON</th>\n",
              "      <th>WICKENBURG</th>\n",
              "      <th>Covered</th>\n",
              "      <th>Covered Slab</th>\n",
              "      <th>None</th>\n",
              "      <th>Slab</th>\n",
              "      <th>8\" Painted Block</th>\n",
              "      <th>8\" Stucco</th>\n",
              "      <th>Adobe</th>\n",
              "      <th>Brick</th>\n",
              "      <th>Frame Brick</th>\n",
              "      <th>Frame Stucco</th>\n",
              "      <th>Frame Wood</th>\n",
              "      <th>Other</th>\n",
              "      <th>Slump Block</th>\n",
              "      <th>Asbestos Shingle</th>\n",
              "      <th>Asphalt Shingle</th>\n",
              "      <th>Built Up</th>\n",
              "      <th>Concrete Tile</th>\n",
              "      <th>Metal</th>\n",
              "      <th>Roll</th>\n",
              "      <th>Slate</th>\n",
              "      <th>Tile</th>\n",
              "      <th>Wood</th>\n",
              "      <th>CP</th>\n",
              "      <th>GR</th>\n",
              "    </tr>\n",
              "  </thead>\n",
              "  <tbody>\n",
              "    <tr>\n",
              "      <th>0</th>\n",
              "      <td>25063</td>\n",
              "      <td>525000.00</td>\n",
              "      <td>33.35</td>\n",
              "      <td>-112.16</td>\n",
              "      <td>2007.00</td>\n",
              "      <td>4917.00</td>\n",
              "      <td>2.00</td>\n",
              "      <td>13.00</td>\n",
              "      <td>0</td>\n",
              "      <td>0</td>\n",
              "      <td>0</td>\n",
              "      <td>0</td>\n",
              "      <td>0</td>\n",
              "      <td>0</td>\n",
              "      <td>0</td>\n",
              "      <td>0</td>\n",
              "      <td>0</td>\n",
              "      <td>0</td>\n",
              "      <td>0</td>\n",
              "      <td>0</td>\n",
              "      <td>0</td>\n",
              "      <td>0</td>\n",
              "      <td>1</td>\n",
              "      <td>0</td>\n",
              "      <td>0</td>\n",
              "      <td>0</td>\n",
              "      <td>0</td>\n",
              "      <td>0</td>\n",
              "      <td>0</td>\n",
              "      <td>1</td>\n",
              "      <td>0</td>\n",
              "      <td>0</td>\n",
              "      <td>0</td>\n",
              "      <td>0</td>\n",
              "      <td>0</td>\n",
              "      <td>0</td>\n",
              "      <td>0</td>\n",
              "      <td>0</td>\n",
              "      <td>0</td>\n",
              "      <td>1</td>\n",
              "      <td>0</td>\n",
              "      <td>0</td>\n",
              "      <td>0</td>\n",
              "      <td>0</td>\n",
              "      <td>0</td>\n",
              "      <td>1</td>\n",
              "      <td>0</td>\n",
              "      <td>0</td>\n",
              "      <td>0</td>\n",
              "      <td>0</td>\n",
              "      <td>0</td>\n",
              "      <td>0</td>\n",
              "      <td>1</td>\n",
              "    </tr>\n",
              "    <tr>\n",
              "      <th>1</th>\n",
              "      <td>20756</td>\n",
              "      <td>337500.00</td>\n",
              "      <td>33.35</td>\n",
              "      <td>-112.16</td>\n",
              "      <td>2007.00</td>\n",
              "      <td>2938.00</td>\n",
              "      <td>2.00</td>\n",
              "      <td>14.00</td>\n",
              "      <td>0</td>\n",
              "      <td>0</td>\n",
              "      <td>0</td>\n",
              "      <td>0</td>\n",
              "      <td>0</td>\n",
              "      <td>0</td>\n",
              "      <td>0</td>\n",
              "      <td>0</td>\n",
              "      <td>0</td>\n",
              "      <td>0</td>\n",
              "      <td>0</td>\n",
              "      <td>0</td>\n",
              "      <td>0</td>\n",
              "      <td>0</td>\n",
              "      <td>1</td>\n",
              "      <td>0</td>\n",
              "      <td>0</td>\n",
              "      <td>0</td>\n",
              "      <td>0</td>\n",
              "      <td>0</td>\n",
              "      <td>0</td>\n",
              "      <td>1</td>\n",
              "      <td>0</td>\n",
              "      <td>0</td>\n",
              "      <td>0</td>\n",
              "      <td>0</td>\n",
              "      <td>0</td>\n",
              "      <td>0</td>\n",
              "      <td>0</td>\n",
              "      <td>0</td>\n",
              "      <td>0</td>\n",
              "      <td>1</td>\n",
              "      <td>0</td>\n",
              "      <td>0</td>\n",
              "      <td>0</td>\n",
              "      <td>0</td>\n",
              "      <td>0</td>\n",
              "      <td>1</td>\n",
              "      <td>0</td>\n",
              "      <td>0</td>\n",
              "      <td>0</td>\n",
              "      <td>0</td>\n",
              "      <td>0</td>\n",
              "      <td>0</td>\n",
              "      <td>1</td>\n",
              "    </tr>\n",
              "    <tr>\n",
              "      <th>2</th>\n",
              "      <td>20810</td>\n",
              "      <td>545000.00</td>\n",
              "      <td>33.35</td>\n",
              "      <td>-112.16</td>\n",
              "      <td>2007.00</td>\n",
              "      <td>5588.00</td>\n",
              "      <td>2.00</td>\n",
              "      <td>14.00</td>\n",
              "      <td>0</td>\n",
              "      <td>0</td>\n",
              "      <td>0</td>\n",
              "      <td>0</td>\n",
              "      <td>0</td>\n",
              "      <td>0</td>\n",
              "      <td>0</td>\n",
              "      <td>0</td>\n",
              "      <td>0</td>\n",
              "      <td>0</td>\n",
              "      <td>0</td>\n",
              "      <td>0</td>\n",
              "      <td>0</td>\n",
              "      <td>0</td>\n",
              "      <td>1</td>\n",
              "      <td>0</td>\n",
              "      <td>0</td>\n",
              "      <td>0</td>\n",
              "      <td>0</td>\n",
              "      <td>0</td>\n",
              "      <td>0</td>\n",
              "      <td>0</td>\n",
              "      <td>1</td>\n",
              "      <td>0</td>\n",
              "      <td>0</td>\n",
              "      <td>0</td>\n",
              "      <td>0</td>\n",
              "      <td>0</td>\n",
              "      <td>0</td>\n",
              "      <td>0</td>\n",
              "      <td>0</td>\n",
              "      <td>1</td>\n",
              "      <td>0</td>\n",
              "      <td>0</td>\n",
              "      <td>0</td>\n",
              "      <td>0</td>\n",
              "      <td>0</td>\n",
              "      <td>1</td>\n",
              "      <td>0</td>\n",
              "      <td>0</td>\n",
              "      <td>0</td>\n",
              "      <td>0</td>\n",
              "      <td>0</td>\n",
              "      <td>0</td>\n",
              "      <td>1</td>\n",
              "    </tr>\n",
              "    <tr>\n",
              "      <th>3</th>\n",
              "      <td>20862</td>\n",
              "      <td>550000.00</td>\n",
              "      <td>33.35</td>\n",
              "      <td>-112.16</td>\n",
              "      <td>2007.00</td>\n",
              "      <td>3849.00</td>\n",
              "      <td>4.00</td>\n",
              "      <td>14.00</td>\n",
              "      <td>0</td>\n",
              "      <td>0</td>\n",
              "      <td>0</td>\n",
              "      <td>0</td>\n",
              "      <td>0</td>\n",
              "      <td>0</td>\n",
              "      <td>0</td>\n",
              "      <td>0</td>\n",
              "      <td>0</td>\n",
              "      <td>0</td>\n",
              "      <td>0</td>\n",
              "      <td>0</td>\n",
              "      <td>0</td>\n",
              "      <td>0</td>\n",
              "      <td>1</td>\n",
              "      <td>0</td>\n",
              "      <td>0</td>\n",
              "      <td>0</td>\n",
              "      <td>0</td>\n",
              "      <td>0</td>\n",
              "      <td>0</td>\n",
              "      <td>0</td>\n",
              "      <td>1</td>\n",
              "      <td>0</td>\n",
              "      <td>0</td>\n",
              "      <td>0</td>\n",
              "      <td>0</td>\n",
              "      <td>0</td>\n",
              "      <td>0</td>\n",
              "      <td>0</td>\n",
              "      <td>1</td>\n",
              "      <td>0</td>\n",
              "      <td>0</td>\n",
              "      <td>0</td>\n",
              "      <td>0</td>\n",
              "      <td>0</td>\n",
              "      <td>0</td>\n",
              "      <td>1</td>\n",
              "      <td>0</td>\n",
              "      <td>0</td>\n",
              "      <td>0</td>\n",
              "      <td>0</td>\n",
              "      <td>0</td>\n",
              "      <td>0</td>\n",
              "      <td>1</td>\n",
              "    </tr>\n",
              "    <tr>\n",
              "      <th>5</th>\n",
              "      <td>18274</td>\n",
              "      <td>430000.00</td>\n",
              "      <td>33.35</td>\n",
              "      <td>-112.16</td>\n",
              "      <td>2007.00</td>\n",
              "      <td>5588.00</td>\n",
              "      <td>3.00</td>\n",
              "      <td>14.00</td>\n",
              "      <td>0</td>\n",
              "      <td>0</td>\n",
              "      <td>0</td>\n",
              "      <td>0</td>\n",
              "      <td>0</td>\n",
              "      <td>0</td>\n",
              "      <td>0</td>\n",
              "      <td>0</td>\n",
              "      <td>0</td>\n",
              "      <td>0</td>\n",
              "      <td>0</td>\n",
              "      <td>0</td>\n",
              "      <td>0</td>\n",
              "      <td>0</td>\n",
              "      <td>1</td>\n",
              "      <td>0</td>\n",
              "      <td>0</td>\n",
              "      <td>0</td>\n",
              "      <td>0</td>\n",
              "      <td>0</td>\n",
              "      <td>0</td>\n",
              "      <td>0</td>\n",
              "      <td>1</td>\n",
              "      <td>0</td>\n",
              "      <td>0</td>\n",
              "      <td>0</td>\n",
              "      <td>0</td>\n",
              "      <td>0</td>\n",
              "      <td>0</td>\n",
              "      <td>0</td>\n",
              "      <td>0</td>\n",
              "      <td>1</td>\n",
              "      <td>0</td>\n",
              "      <td>0</td>\n",
              "      <td>0</td>\n",
              "      <td>0</td>\n",
              "      <td>0</td>\n",
              "      <td>1</td>\n",
              "      <td>0</td>\n",
              "      <td>0</td>\n",
              "      <td>0</td>\n",
              "      <td>0</td>\n",
              "      <td>0</td>\n",
              "      <td>0</td>\n",
              "      <td>1</td>\n",
              "    </tr>\n",
              "  </tbody>\n",
              "</table>\n",
              "</div>"
            ],
            "text/plain": [
              "   lot_size_sf  price_usd   lat     lon  build_yr  ...  Slate  Tile  Wood  CP  GR\n",
              "0        25063  525000.00 33.35 -112.16   2007.00  ...      0     0     0   0   1\n",
              "1        20756  337500.00 33.35 -112.16   2007.00  ...      0     0     0   0   1\n",
              "2        20810  545000.00 33.35 -112.16   2007.00  ...      0     0     0   0   1\n",
              "3        20862  550000.00 33.35 -112.16   2007.00  ...      0     0     0   0   1\n",
              "5        18274  430000.00 33.35 -112.16   2007.00  ...      0     0     0   0   1\n",
              "\n",
              "[5 rows x 53 columns]"
            ]
          },
          "metadata": {},
          "execution_count": 44
        }
      ]
    },
    {
      "cell_type": "markdown",
      "metadata": {
        "id": "zOAAZrC8z-z4"
      },
      "source": [
        "# Modeling"
      ]
    },
    {
      "cell_type": "code",
      "metadata": {
        "id": "Nyz8tcfjshME"
      },
      "source": [
        "X = numeric_data.drop(['price_usd'], axis = 1)\n",
        "y = numeric_data['price_usd']"
      ],
      "execution_count": null,
      "outputs": []
    },
    {
      "cell_type": "code",
      "metadata": {
        "id": "VKwBJdkPstO4"
      },
      "source": [
        "# data analysis packages\n",
        "import numpy as np\n",
        "import pandas as pd\n",
        "\n",
        "# plotting package\n",
        "import matplotlib.pyplot as plt\n",
        "import seaborn as sns\n",
        "\n",
        "# machine learning\n",
        "from sklearn.model_selection import train_test_split\n",
        "from sklearn.metrics import mean_squared_error"
      ],
      "execution_count": null,
      "outputs": []
    },
    {
      "cell_type": "code",
      "metadata": {
        "id": "jp1oFVwjst_5"
      },
      "source": [
        "X_train, X_test, y_train, y_test = train_test_split(X, y, test_size=0.2, random_state=42)"
      ],
      "execution_count": null,
      "outputs": []
    },
    {
      "cell_type": "markdown",
      "metadata": {
        "id": "yi1EBn3cuCrP"
      },
      "source": [
        "## Linear Regression"
      ]
    },
    {
      "cell_type": "code",
      "metadata": {
        "colab": {
          "base_uri": "https://localhost:8080/"
        },
        "id": "23JOEYzCtjE_",
        "outputId": "1d35360e-3e5d-40d3-ad82-5b01e45f3f70"
      },
      "source": [
        "from sklearn.linear_model import LinearRegression\n",
        "lr = LinearRegression()\n",
        "lr.fit(X_train, y_train)"
      ],
      "execution_count": null,
      "outputs": [
        {
          "output_type": "execute_result",
          "data": {
            "text/plain": [
              "LinearRegression(copy_X=True, fit_intercept=True, n_jobs=None, normalize=False)"
            ]
          },
          "metadata": {},
          "execution_count": 48
        }
      ]
    },
    {
      "cell_type": "code",
      "metadata": {
        "colab": {
          "base_uri": "https://localhost:8080/",
          "height": 295
        },
        "id": "LKAdXTHztlY_",
        "outputId": "8bfadbc9-bccc-4149-a3fd-36beb0f33205"
      },
      "source": [
        "y_pred_lr = lr.predict(X_test)\n",
        "\n",
        "plt.scatter(y_test, y_pred_lr)\n",
        "plt.plot([0,8e6], [0,8e6], linestyle='-', color='red')\n",
        "plt.xlabel('Actual')\n",
        "plt.ylabel('Predicted')\n",
        "plt.title('Predicted and Actual Gross Revenue - Linear Regression');"
      ],
      "execution_count": null,
      "outputs": [
        {
          "output_type": "display_data",
          "data": {
            "image/png": "[encoded data removed]",
            "text/plain": [
              "<Figure size 432x288 with 1 Axes>"
            ]
          },
          "metadata": {
            "needs_background": "light"
          }
        }
      ]
    },
    {
      "cell_type": "code",
      "metadata": {
        "colab": {
          "base_uri": "https://localhost:8080/"
        },
        "id": "Afy-BTdgtonh",
        "outputId": "4fdd6182-2f96-4261-e1c7-6f15528697a5"
      },
      "source": [
        "print('Evaluate Linear Regression')\n",
        "lr_r2 = lr.score(X_test, y_test)\n",
        "print('R Squared:\\t', lr_r2)\n",
        "\n",
        "lr_rmse = np.sqrt(mean_squared_error(y_test, y_pred_lr))\n",
        "print('RMSE:\\t\\t', lr_rmse)"
      ],
      "execution_count": null,
      "outputs": [
        {
          "output_type": "stream",
          "name": "stdout",
          "text": [
            "Evaluate Linear Regression\n",
            "R Squared:\t 0.47158648163051464\n",
            "RMSE:\t\t 462432.7622112099\n"
          ]
        }
      ]
    },
    {
      "cell_type": "code",
      "metadata": {
        "colab": {
          "base_uri": "https://localhost:8080/",
          "height": 1000
        },
        "id": "tfgZlhT1t1ZB",
        "outputId": "8669b4fe-1408-42d9-f52b-2abbc80e4db9"
      },
      "source": [
        "coefs = pd.DataFrame(zip(X.columns, lr.coef_), \n",
        "                     columns=['Feature Names', 'Coefficients'])\n",
        "print('Intercept: ', lr.intercept_)\n",
        "coefs.sort_values('Coefficients', ascending=False)"
      ],
      "execution_count": null,
      "outputs": [
        {
          "output_type": "stream",
          "name": "stdout",
          "text": [
            "Intercept:  66593786.58891141\n"
          ]
        },
        {
          "output_type": "execute_result",
          "data": {
            "text/html": [
              "<div>\n",
              "<style scoped>\n",
              "    .dataframe tbody tr th:only-of-type {\n",
              "        vertical-align: middle;\n",
              "    }\n",
              "\n",
              "    .dataframe tbody tr th {\n",
              "        vertical-align: top;\n",
              "    }\n",
              "\n",
              "    .dataframe thead th {\n",
              "        text-align: right;\n",
              "    }\n",
              "</style>\n",
              "<table border=\"1\" class=\"dataframe\">\n",
              "  <thead>\n",
              "    <tr style=\"text-align: right;\">\n",
              "      <th></th>\n",
              "      <th>Feature Names</th>\n",
              "      <th>Coefficients</th>\n",
              "    </tr>\n",
              "  </thead>\n",
              "  <tbody>\n",
              "    <tr>\n",
              "      <th>39</th>\n",
              "      <td>Other</td>\n",
              "      <td>3460749.15</td>\n",
              "    </tr>\n",
              "    <tr>\n",
              "      <th>19</th>\n",
              "      <td>PARADISE VALLEY</td>\n",
              "      <td>946872.03</td>\n",
              "    </tr>\n",
              "    <tr>\n",
              "      <th>2</th>\n",
              "      <td>lon</td>\n",
              "      <td>643637.84</td>\n",
              "    </tr>\n",
              "    <tr>\n",
              "      <th>27</th>\n",
              "      <td>WICKENBURG</td>\n",
              "      <td>283560.62</td>\n",
              "    </tr>\n",
              "    <tr>\n",
              "      <th>24</th>\n",
              "      <td>SURPRISE</td>\n",
              "      <td>160316.77</td>\n",
              "    </tr>\n",
              "    <tr>\n",
              "      <th>50</th>\n",
              "      <td>CP</td>\n",
              "      <td>112078.52</td>\n",
              "    </tr>\n",
              "    <tr>\n",
              "      <th>23</th>\n",
              "      <td>SCOTTSDALE</td>\n",
              "      <td>111345.91</td>\n",
              "    </tr>\n",
              "    <tr>\n",
              "      <th>8</th>\n",
              "      <td>BUCKEYE</td>\n",
              "      <td>103623.59</td>\n",
              "    </tr>\n",
              "    <tr>\n",
              "      <th>15</th>\n",
              "      <td>GOODYEAR</td>\n",
              "      <td>102997.83</td>\n",
              "    </tr>\n",
              "    <tr>\n",
              "      <th>30</th>\n",
              "      <td>None</td>\n",
              "      <td>86064.52</td>\n",
              "    </tr>\n",
              "    <tr>\n",
              "      <th>46</th>\n",
              "      <td>Roll</td>\n",
              "      <td>70389.00</td>\n",
              "    </tr>\n",
              "    <tr>\n",
              "      <th>7</th>\n",
              "      <td>AVONDALE</td>\n",
              "      <td>70138.80</td>\n",
              "    </tr>\n",
              "    <tr>\n",
              "      <th>42</th>\n",
              "      <td>Asphalt Shingle</td>\n",
              "      <td>46664.64</td>\n",
              "    </tr>\n",
              "    <tr>\n",
              "      <th>31</th>\n",
              "      <td>Slab</td>\n",
              "      <td>32456.37</td>\n",
              "    </tr>\n",
              "    <tr>\n",
              "      <th>5</th>\n",
              "      <td>patio_ct</td>\n",
              "      <td>31878.98</td>\n",
              "    </tr>\n",
              "    <tr>\n",
              "      <th>20</th>\n",
              "      <td>PEORIA</td>\n",
              "      <td>22766.20</td>\n",
              "    </tr>\n",
              "    <tr>\n",
              "      <th>21</th>\n",
              "      <td>PHOENIX</td>\n",
              "      <td>15683.02</td>\n",
              "    </tr>\n",
              "    <tr>\n",
              "      <th>48</th>\n",
              "      <td>Tile</td>\n",
              "      <td>15149.80</td>\n",
              "    </tr>\n",
              "    <tr>\n",
              "      <th>45</th>\n",
              "      <td>Metal</td>\n",
              "      <td>13934.39</td>\n",
              "    </tr>\n",
              "    <tr>\n",
              "      <th>6</th>\n",
              "      <td>bath_fixtures_ct</td>\n",
              "      <td>8856.61</td>\n",
              "    </tr>\n",
              "    <tr>\n",
              "      <th>3</th>\n",
              "      <td>build_yr</td>\n",
              "      <td>4067.48</td>\n",
              "    </tr>\n",
              "    <tr>\n",
              "      <th>18</th>\n",
              "      <td>NO CITY/TOWN</td>\n",
              "      <td>280.27</td>\n",
              "    </tr>\n",
              "    <tr>\n",
              "      <th>4</th>\n",
              "      <td>build_size_sf</td>\n",
              "      <td>227.63</td>\n",
              "    </tr>\n",
              "    <tr>\n",
              "      <th>0</th>\n",
              "      <td>lot_size_sf</td>\n",
              "      <td>2.23</td>\n",
              "    </tr>\n",
              "    <tr>\n",
              "      <th>47</th>\n",
              "      <td>Slate</td>\n",
              "      <td>0.00</td>\n",
              "    </tr>\n",
              "    <tr>\n",
              "      <th>44</th>\n",
              "      <td>Concrete Tile</td>\n",
              "      <td>-5649.03</td>\n",
              "    </tr>\n",
              "    <tr>\n",
              "      <th>16</th>\n",
              "      <td>LITCHFIELD PARK</td>\n",
              "      <td>-24503.53</td>\n",
              "    </tr>\n",
              "    <tr>\n",
              "      <th>43</th>\n",
              "      <td>Built Up</td>\n",
              "      <td>-25834.61</td>\n",
              "    </tr>\n",
              "    <tr>\n",
              "      <th>26</th>\n",
              "      <td>TOLLESON</td>\n",
              "      <td>-31326.45</td>\n",
              "    </tr>\n",
              "    <tr>\n",
              "      <th>28</th>\n",
              "      <td>Covered</td>\n",
              "      <td>-37610.39</td>\n",
              "    </tr>\n",
              "    <tr>\n",
              "      <th>41</th>\n",
              "      <td>Asbestos Shingle</td>\n",
              "      <td>-40977.22</td>\n",
              "    </tr>\n",
              "    <tr>\n",
              "      <th>14</th>\n",
              "      <td>GLENDALE</td>\n",
              "      <td>-42726.13</td>\n",
              "    </tr>\n",
              "    <tr>\n",
              "      <th>1</th>\n",
              "      <td>lat</td>\n",
              "      <td>-66441.05</td>\n",
              "    </tr>\n",
              "    <tr>\n",
              "      <th>49</th>\n",
              "      <td>Wood</td>\n",
              "      <td>-73676.97</td>\n",
              "    </tr>\n",
              "    <tr>\n",
              "      <th>25</th>\n",
              "      <td>TEMPE</td>\n",
              "      <td>-80538.97</td>\n",
              "    </tr>\n",
              "    <tr>\n",
              "      <th>29</th>\n",
              "      <td>Covered Slab</td>\n",
              "      <td>-80910.50</td>\n",
              "    </tr>\n",
              "    <tr>\n",
              "      <th>9</th>\n",
              "      <td>CAREFREE</td>\n",
              "      <td>-100300.80</td>\n",
              "    </tr>\n",
              "    <tr>\n",
              "      <th>51</th>\n",
              "      <td>GR</td>\n",
              "      <td>-112078.52</td>\n",
              "    </tr>\n",
              "    <tr>\n",
              "      <th>12</th>\n",
              "      <td>FOUNTAIN HILLS</td>\n",
              "      <td>-146385.98</td>\n",
              "    </tr>\n",
              "    <tr>\n",
              "      <th>11</th>\n",
              "      <td>CHANDLER</td>\n",
              "      <td>-181138.44</td>\n",
              "    </tr>\n",
              "    <tr>\n",
              "      <th>10</th>\n",
              "      <td>CAVE CREEK</td>\n",
              "      <td>-201803.34</td>\n",
              "    </tr>\n",
              "    <tr>\n",
              "      <th>36</th>\n",
              "      <td>Frame Brick</td>\n",
              "      <td>-278729.54</td>\n",
              "    </tr>\n",
              "    <tr>\n",
              "      <th>17</th>\n",
              "      <td>MESA</td>\n",
              "      <td>-279109.71</td>\n",
              "    </tr>\n",
              "    <tr>\n",
              "      <th>13</th>\n",
              "      <td>GILBERT</td>\n",
              "      <td>-279549.90</td>\n",
              "    </tr>\n",
              "    <tr>\n",
              "      <th>34</th>\n",
              "      <td>Adobe</td>\n",
              "      <td>-361093.35</td>\n",
              "    </tr>\n",
              "    <tr>\n",
              "      <th>35</th>\n",
              "      <td>Brick</td>\n",
              "      <td>-436366.02</td>\n",
              "    </tr>\n",
              "    <tr>\n",
              "      <th>33</th>\n",
              "      <td>8\" Stucco</td>\n",
              "      <td>-445034.12</td>\n",
              "    </tr>\n",
              "    <tr>\n",
              "      <th>22</th>\n",
              "      <td>QUEEN CREEK</td>\n",
              "      <td>-450201.75</td>\n",
              "    </tr>\n",
              "    <tr>\n",
              "      <th>38</th>\n",
              "      <td>Frame Wood</td>\n",
              "      <td>-463914.49</td>\n",
              "    </tr>\n",
              "    <tr>\n",
              "      <th>40</th>\n",
              "      <td>Slump Block</td>\n",
              "      <td>-475617.58</td>\n",
              "    </tr>\n",
              "    <tr>\n",
              "      <th>37</th>\n",
              "      <td>Frame Stucco</td>\n",
              "      <td>-478647.24</td>\n",
              "    </tr>\n",
              "    <tr>\n",
              "      <th>32</th>\n",
              "      <td>8\" Painted Block</td>\n",
              "      <td>-521346.81</td>\n",
              "    </tr>\n",
              "  </tbody>\n",
              "</table>\n",
              "</div>"
            ],
            "text/plain": [
              "       Feature Names  Coefficients\n",
              "39             Other    3460749.15\n",
              "19   PARADISE VALLEY     946872.03\n",
              "2                lon     643637.84\n",
              "27        WICKENBURG     283560.62\n",
              "24          SURPRISE     160316.77\n",
              "50                CP     112078.52\n",
              "23        SCOTTSDALE     111345.91\n",
              "8            BUCKEYE     103623.59\n",
              "15          GOODYEAR     102997.83\n",
              "30              None      86064.52\n",
              "46              Roll      70389.00\n",
              "7           AVONDALE      70138.80\n",
              "42   Asphalt Shingle      46664.64\n",
              "31              Slab      32456.37\n",
              "5           patio_ct      31878.98\n",
              "20            PEORIA      22766.20\n",
              "21           PHOENIX      15683.02\n",
              "48              Tile      15149.80\n",
              "45             Metal      13934.39\n",
              "6   bath_fixtures_ct       8856.61\n",
              "3           build_yr       4067.48\n",
              "18      NO CITY/TOWN        280.27\n",
              "4      build_size_sf        227.63\n",
              "0        lot_size_sf          2.23\n",
              "47             Slate          0.00\n",
              "44     Concrete Tile      -5649.03\n",
              "16   LITCHFIELD PARK     -24503.53\n",
              "43          Built Up     -25834.61\n",
              "26          TOLLESON     -31326.45\n",
              "28           Covered     -37610.39\n",
              "41  Asbestos Shingle     -40977.22\n",
              "14          GLENDALE     -42726.13\n",
              "1                lat     -66441.05\n",
              "49              Wood     -73676.97\n",
              "25             TEMPE     -80538.97\n",
              "29      Covered Slab     -80910.50\n",
              "9           CAREFREE    -100300.80\n",
              "51                GR    -112078.52\n",
              "12    FOUNTAIN HILLS    -146385.98\n",
              "11          CHANDLER    -181138.44\n",
              "10        CAVE CREEK    -201803.34\n",
              "36       Frame Brick    -278729.54\n",
              "17              MESA    -279109.71\n",
              "13           GILBERT    -279549.90\n",
              "34             Adobe    -361093.35\n",
              "35             Brick    -436366.02\n",
              "33         8\" Stucco    -445034.12\n",
              "22       QUEEN CREEK    -450201.75\n",
              "38        Frame Wood    -463914.49\n",
              "40       Slump Block    -475617.58\n",
              "37      Frame Stucco    -478647.24\n",
              "32  8\" Painted Block    -521346.81"
            ]
          },
          "metadata": {},
          "execution_count": 54
        }
      ]
    },
    {
      "cell_type": "markdown",
      "metadata": {
        "id": "T2qYSJUbuHdu"
      },
      "source": [
        "## Random Forest"
      ]
    },
    {
      "cell_type": "code",
      "metadata": {
        "colab": {
          "base_uri": "https://localhost:8080/"
        },
        "id": "fq6KVFvsuMwb",
        "outputId": "4aeb57f9-bf9b-4df1-9267-162b3aabdb52"
      },
      "source": [
        "from sklearn.ensemble import RandomForestRegressor\n",
        "rf = RandomForestRegressor(random_state=42)\n",
        "rf.fit(X_train, y_train)"
      ],
      "execution_count": null,
      "outputs": [
        {
          "output_type": "execute_result",
          "data": {
            "text/plain": [
              "RandomForestRegressor(bootstrap=True, ccp_alpha=0.0, criterion='mse',\n",
              "                      max_depth=None, max_features='auto', max_leaf_nodes=None,\n",
              "                      max_samples=None, min_impurity_decrease=0.0,\n",
              "                      min_impurity_split=None, min_samples_leaf=1,\n",
              "                      min_samples_split=2, min_weight_fraction_leaf=0.0,\n",
              "                      n_estimators=100, n_jobs=None, oob_score=False,\n",
              "                      random_state=42, verbose=0, warm_start=False)"
            ]
          },
          "metadata": {},
          "execution_count": 55
        }
      ]
    },
    {
      "cell_type": "code",
      "metadata": {
        "colab": {
          "base_uri": "https://localhost:8080/",
          "height": 295
        },
        "id": "gXeUkKJ3uMyg",
        "outputId": "1bb8a019-c05b-437f-a4a6-b71f79c89ebe"
      },
      "source": [
        "y_pred_rf = rf.predict(X_test)\n",
        "\n",
        "plt.scatter(y_test, y_pred_rf)\n",
        "plt.plot([0,8e6], [0,8e6], linestyle='-', color='red')\n",
        "plt.xlabel('Actual')\n",
        "plt.ylabel('Predicted')\n",
        "plt.title('Predicted and Actual Gross Revenue - Random Forest');"
      ],
      "execution_count": null,
      "outputs": [
        {
          "output_type": "display_data",
          "data": {
            "image/png": "[encoded data removed]",
            "text/plain": [
              "<Figure size 432x288 with 1 Axes>"
            ]
          },
          "metadata": {
            "needs_background": "light"
          }
        }
      ]
    },
    {
      "cell_type": "code",
      "metadata": {
        "colab": {
          "base_uri": "https://localhost:8080/"
        },
        "id": "DP49Wt4xuM0v",
        "outputId": "8320a382-9673-49af-a309-ac87b2a696b8"
      },
      "source": [
        "print('Evaluating Random Forest')\n",
        "rf_r2 = rf.score(X_test, y_test)\n",
        "print('R-Squared: \\t', rf_r2)\n",
        "rf_rmse = np.sqrt(mean_squared_error(y_test, y_pred_rf))\n",
        "print('RMSE: \\t\\t', rf_rmse)"
      ],
      "execution_count": null,
      "outputs": [
        {
          "output_type": "stream",
          "name": "stdout",
          "text": [
            "Evaluating Random Forest\n",
            "R-Squared: \t 0.5687193113688958\n",
            "RMSE: \t\t 417774.2243028962\n"
          ]
        }
      ]
    },
    {
      "cell_type": "code",
      "metadata": {
        "colab": {
          "base_uri": "https://localhost:8080/",
          "height": 1000
        },
        "id": "K-kOsdKSuRoG",
        "outputId": "f861609b-4081-4be7-96f2-594298e3f967"
      },
      "source": [
        "import_rf = pd.DataFrame(zip(X.columns, rf.feature_importances_),\n",
        "                         columns=['Feature Names', 'Feature Importances'])\n",
        "import_rf.sort_values('Feature Importances', ascending=False)\n"
      ],
      "execution_count": null,
      "outputs": [
        {
          "output_type": "execute_result",
          "data": {
            "text/html": [
              "<div>\n",
              "<style scoped>\n",
              "    .dataframe tbody tr th:only-of-type {\n",
              "        vertical-align: middle;\n",
              "    }\n",
              "\n",
              "    .dataframe tbody tr th {\n",
              "        vertical-align: top;\n",
              "    }\n",
              "\n",
              "    .dataframe thead th {\n",
              "        text-align: right;\n",
              "    }\n",
              "</style>\n",
              "<table border=\"1\" class=\"dataframe\">\n",
              "  <thead>\n",
              "    <tr style=\"text-align: right;\">\n",
              "      <th></th>\n",
              "      <th>Feature Names</th>\n",
              "      <th>Feature Importances</th>\n",
              "    </tr>\n",
              "  </thead>\n",
              "  <tbody>\n",
              "    <tr>\n",
              "      <th>4</th>\n",
              "      <td>build_size_sf</td>\n",
              "      <td>0.35</td>\n",
              "    </tr>\n",
              "    <tr>\n",
              "      <th>6</th>\n",
              "      <td>bath_fixtures_ct</td>\n",
              "      <td>0.29</td>\n",
              "    </tr>\n",
              "    <tr>\n",
              "      <th>2</th>\n",
              "      <td>lon</td>\n",
              "      <td>0.11</td>\n",
              "    </tr>\n",
              "    <tr>\n",
              "      <th>0</th>\n",
              "      <td>lot_size_sf</td>\n",
              "      <td>0.08</td>\n",
              "    </tr>\n",
              "    <tr>\n",
              "      <th>1</th>\n",
              "      <td>lat</td>\n",
              "      <td>0.06</td>\n",
              "    </tr>\n",
              "    <tr>\n",
              "      <th>3</th>\n",
              "      <td>build_yr</td>\n",
              "      <td>0.05</td>\n",
              "    </tr>\n",
              "    <tr>\n",
              "      <th>19</th>\n",
              "      <td>PARADISE VALLEY</td>\n",
              "      <td>0.02</td>\n",
              "    </tr>\n",
              "    <tr>\n",
              "      <th>23</th>\n",
              "      <td>SCOTTSDALE</td>\n",
              "      <td>0.01</td>\n",
              "    </tr>\n",
              "    <tr>\n",
              "      <th>5</th>\n",
              "      <td>patio_ct</td>\n",
              "      <td>0.01</td>\n",
              "    </tr>\n",
              "    <tr>\n",
              "      <th>44</th>\n",
              "      <td>Concrete Tile</td>\n",
              "      <td>0.01</td>\n",
              "    </tr>\n",
              "    <tr>\n",
              "      <th>33</th>\n",
              "      <td>8\" Stucco</td>\n",
              "      <td>0.00</td>\n",
              "    </tr>\n",
              "    <tr>\n",
              "      <th>37</th>\n",
              "      <td>Frame Stucco</td>\n",
              "      <td>0.00</td>\n",
              "    </tr>\n",
              "    <tr>\n",
              "      <th>21</th>\n",
              "      <td>PHOENIX</td>\n",
              "      <td>0.00</td>\n",
              "    </tr>\n",
              "    <tr>\n",
              "      <th>39</th>\n",
              "      <td>Other</td>\n",
              "      <td>0.00</td>\n",
              "    </tr>\n",
              "    <tr>\n",
              "      <th>43</th>\n",
              "      <td>Built Up</td>\n",
              "      <td>0.00</td>\n",
              "    </tr>\n",
              "    <tr>\n",
              "      <th>38</th>\n",
              "      <td>Frame Wood</td>\n",
              "      <td>0.00</td>\n",
              "    </tr>\n",
              "    <tr>\n",
              "      <th>12</th>\n",
              "      <td>FOUNTAIN HILLS</td>\n",
              "      <td>0.00</td>\n",
              "    </tr>\n",
              "    <tr>\n",
              "      <th>48</th>\n",
              "      <td>Tile</td>\n",
              "      <td>0.00</td>\n",
              "    </tr>\n",
              "    <tr>\n",
              "      <th>7</th>\n",
              "      <td>AVONDALE</td>\n",
              "      <td>0.00</td>\n",
              "    </tr>\n",
              "    <tr>\n",
              "      <th>28</th>\n",
              "      <td>Covered</td>\n",
              "      <td>0.00</td>\n",
              "    </tr>\n",
              "    <tr>\n",
              "      <th>40</th>\n",
              "      <td>Slump Block</td>\n",
              "      <td>0.00</td>\n",
              "    </tr>\n",
              "    <tr>\n",
              "      <th>29</th>\n",
              "      <td>Covered Slab</td>\n",
              "      <td>0.00</td>\n",
              "    </tr>\n",
              "    <tr>\n",
              "      <th>50</th>\n",
              "      <td>CP</td>\n",
              "      <td>0.00</td>\n",
              "    </tr>\n",
              "    <tr>\n",
              "      <th>42</th>\n",
              "      <td>Asphalt Shingle</td>\n",
              "      <td>0.00</td>\n",
              "    </tr>\n",
              "    <tr>\n",
              "      <th>45</th>\n",
              "      <td>Metal</td>\n",
              "      <td>0.00</td>\n",
              "    </tr>\n",
              "    <tr>\n",
              "      <th>30</th>\n",
              "      <td>None</td>\n",
              "      <td>0.00</td>\n",
              "    </tr>\n",
              "    <tr>\n",
              "      <th>31</th>\n",
              "      <td>Slab</td>\n",
              "      <td>0.00</td>\n",
              "    </tr>\n",
              "    <tr>\n",
              "      <th>32</th>\n",
              "      <td>8\" Painted Block</td>\n",
              "      <td>0.00</td>\n",
              "    </tr>\n",
              "    <tr>\n",
              "      <th>35</th>\n",
              "      <td>Brick</td>\n",
              "      <td>0.00</td>\n",
              "    </tr>\n",
              "    <tr>\n",
              "      <th>17</th>\n",
              "      <td>MESA</td>\n",
              "      <td>0.00</td>\n",
              "    </tr>\n",
              "    <tr>\n",
              "      <th>51</th>\n",
              "      <td>GR</td>\n",
              "      <td>0.00</td>\n",
              "    </tr>\n",
              "    <tr>\n",
              "      <th>18</th>\n",
              "      <td>NO CITY/TOWN</td>\n",
              "      <td>0.00</td>\n",
              "    </tr>\n",
              "    <tr>\n",
              "      <th>34</th>\n",
              "      <td>Adobe</td>\n",
              "      <td>0.00</td>\n",
              "    </tr>\n",
              "    <tr>\n",
              "      <th>11</th>\n",
              "      <td>CHANDLER</td>\n",
              "      <td>0.00</td>\n",
              "    </tr>\n",
              "    <tr>\n",
              "      <th>16</th>\n",
              "      <td>LITCHFIELD PARK</td>\n",
              "      <td>0.00</td>\n",
              "    </tr>\n",
              "    <tr>\n",
              "      <th>25</th>\n",
              "      <td>TEMPE</td>\n",
              "      <td>0.00</td>\n",
              "    </tr>\n",
              "    <tr>\n",
              "      <th>9</th>\n",
              "      <td>CAREFREE</td>\n",
              "      <td>0.00</td>\n",
              "    </tr>\n",
              "    <tr>\n",
              "      <th>13</th>\n",
              "      <td>GILBERT</td>\n",
              "      <td>0.00</td>\n",
              "    </tr>\n",
              "    <tr>\n",
              "      <th>20</th>\n",
              "      <td>PEORIA</td>\n",
              "      <td>0.00</td>\n",
              "    </tr>\n",
              "    <tr>\n",
              "      <th>14</th>\n",
              "      <td>GLENDALE</td>\n",
              "      <td>0.00</td>\n",
              "    </tr>\n",
              "    <tr>\n",
              "      <th>10</th>\n",
              "      <td>CAVE CREEK</td>\n",
              "      <td>0.00</td>\n",
              "    </tr>\n",
              "    <tr>\n",
              "      <th>22</th>\n",
              "      <td>QUEEN CREEK</td>\n",
              "      <td>0.00</td>\n",
              "    </tr>\n",
              "    <tr>\n",
              "      <th>24</th>\n",
              "      <td>SURPRISE</td>\n",
              "      <td>0.00</td>\n",
              "    </tr>\n",
              "    <tr>\n",
              "      <th>49</th>\n",
              "      <td>Wood</td>\n",
              "      <td>0.00</td>\n",
              "    </tr>\n",
              "    <tr>\n",
              "      <th>15</th>\n",
              "      <td>GOODYEAR</td>\n",
              "      <td>0.00</td>\n",
              "    </tr>\n",
              "    <tr>\n",
              "      <th>46</th>\n",
              "      <td>Roll</td>\n",
              "      <td>0.00</td>\n",
              "    </tr>\n",
              "    <tr>\n",
              "      <th>26</th>\n",
              "      <td>TOLLESON</td>\n",
              "      <td>0.00</td>\n",
              "    </tr>\n",
              "    <tr>\n",
              "      <th>8</th>\n",
              "      <td>BUCKEYE</td>\n",
              "      <td>0.00</td>\n",
              "    </tr>\n",
              "    <tr>\n",
              "      <th>27</th>\n",
              "      <td>WICKENBURG</td>\n",
              "      <td>0.00</td>\n",
              "    </tr>\n",
              "    <tr>\n",
              "      <th>36</th>\n",
              "      <td>Frame Brick</td>\n",
              "      <td>0.00</td>\n",
              "    </tr>\n",
              "    <tr>\n",
              "      <th>41</th>\n",
              "      <td>Asbestos Shingle</td>\n",
              "      <td>0.00</td>\n",
              "    </tr>\n",
              "    <tr>\n",
              "      <th>47</th>\n",
              "      <td>Slate</td>\n",
              "      <td>0.00</td>\n",
              "    </tr>\n",
              "  </tbody>\n",
              "</table>\n",
              "</div>"
            ],
            "text/plain": [
              "       Feature Names  Feature Importances\n",
              "4      build_size_sf                 0.35\n",
              "6   bath_fixtures_ct                 0.29\n",
              "2                lon                 0.11\n",
              "0        lot_size_sf                 0.08\n",
              "1                lat                 0.06\n",
              "3           build_yr                 0.05\n",
              "19   PARADISE VALLEY                 0.02\n",
              "23        SCOTTSDALE                 0.01\n",
              "5           patio_ct                 0.01\n",
              "44     Concrete Tile                 0.01\n",
              "33         8\" Stucco                 0.00\n",
              "37      Frame Stucco                 0.00\n",
              "21           PHOENIX                 0.00\n",
              "39             Other                 0.00\n",
              "43          Built Up                 0.00\n",
              "38        Frame Wood                 0.00\n",
              "12    FOUNTAIN HILLS                 0.00\n",
              "48              Tile                 0.00\n",
              "7           AVONDALE                 0.00\n",
              "28           Covered                 0.00\n",
              "40       Slump Block                 0.00\n",
              "29      Covered Slab                 0.00\n",
              "50                CP                 0.00\n",
              "42   Asphalt Shingle                 0.00\n",
              "45             Metal                 0.00\n",
              "30              None                 0.00\n",
              "31              Slab                 0.00\n",
              "32  8\" Painted Block                 0.00\n",
              "35             Brick                 0.00\n",
              "17              MESA                 0.00\n",
              "51                GR                 0.00\n",
              "18      NO CITY/TOWN                 0.00\n",
              "34             Adobe                 0.00\n",
              "11          CHANDLER                 0.00\n",
              "16   LITCHFIELD PARK                 0.00\n",
              "25             TEMPE                 0.00\n",
              "9           CAREFREE                 0.00\n",
              "13           GILBERT                 0.00\n",
              "20            PEORIA                 0.00\n",
              "14          GLENDALE                 0.00\n",
              "10        CAVE CREEK                 0.00\n",
              "22       QUEEN CREEK                 0.00\n",
              "24          SURPRISE                 0.00\n",
              "49              Wood                 0.00\n",
              "15          GOODYEAR                 0.00\n",
              "46              Roll                 0.00\n",
              "26          TOLLESON                 0.00\n",
              "8            BUCKEYE                 0.00\n",
              "27        WICKENBURG                 0.00\n",
              "36       Frame Brick                 0.00\n",
              "41  Asbestos Shingle                 0.00\n",
              "47             Slate                 0.00"
            ]
          },
          "metadata": {},
          "execution_count": 58
        }
      ]
    },
    {
      "cell_type": "markdown",
      "metadata": {
        "id": "du5w8sQlu56M"
      },
      "source": [
        "## KNN"
      ]
    },
    {
      "cell_type": "code",
      "metadata": {
        "colab": {
          "base_uri": "https://localhost:8080/"
        },
        "id": "_5Lv34L1u5J5",
        "outputId": "db24e4e5-97e2-4625-9e1f-ab28c97ddb6d"
      },
      "source": [
        "from sklearn.neighbors import KNeighborsRegressor\n",
        "knn = KNeighborsRegressor(n_neighbors=3)\n",
        "knn.fit(X, y)"
      ],
      "execution_count": null,
      "outputs": [
        {
          "output_type": "execute_result",
          "data": {
            "text/plain": [
              "KNeighborsRegressor(algorithm='auto', leaf_size=30, metric='minkowski',\n",
              "                    metric_params=None, n_jobs=None, n_neighbors=3, p=2,\n",
              "                    weights='uniform')"
            ]
          },
          "metadata": {},
          "execution_count": 59
        }
      ]
    },
    {
      "cell_type": "code",
      "metadata": {
        "colab": {
          "base_uri": "https://localhost:8080/",
          "height": 295
        },
        "id": "xHulfHXUvTOd",
        "outputId": "0e5dfa97-3efb-4d99-8913-ab7348d4e7f5"
      },
      "source": [
        "y_pred_knn = knn.predict(X_test)\n",
        "\n",
        "plt.scatter(y_test, y_pred_knn)\n",
        "plt.plot([0,8e6], [0,8e6], linestyle='-', color='red')\n",
        "plt.xlabel('Actual')\n",
        "plt.ylabel('Predicted')\n",
        "plt.title('Predicted and Actual Price (USD) - KNN');"
      ],
      "execution_count": null,
      "outputs": [
        {
          "output_type": "display_data",
          "data": {
            "image/png": "[encoded data removed]",
            "text/plain": [
              "<Figure size 432x288 with 1 Axes>"
            ]
          },
          "metadata": {
            "needs_background": "light"
          }
        }
      ]
    },
    {
      "cell_type": "code",
      "metadata": {
        "colab": {
          "base_uri": "https://localhost:8080/"
        },
        "id": "5L-gJbaSvcKM",
        "outputId": "54648181-d1e6-4fc1-82d0-f5b4a09f3901"
      },
      "source": [
        "print('Evaluating KNN')\n",
        "knn_r2 = knn.score(X_test, y_test)\n",
        "print('R-Squared: \\t', knn_r2)\n",
        "knn_rmse = np.sqrt(mean_squared_error(y_test, y_pred_knn))\n",
        "print('RMSE: \\t\\t', knn_rmse)"
      ],
      "execution_count": null,
      "outputs": [
        {
          "output_type": "stream",
          "name": "stdout",
          "text": [
            "Evaluating KNN\n",
            "R-Squared: \t 0.7111419346049601\n",
            "RMSE: \t\t 341903.7660203895\n"
          ]
        }
      ]
    },
    {
      "cell_type": "markdown",
      "metadata": {
        "id": "YXJCEB8ZwYrd"
      },
      "source": [
        "## Comparison"
      ]
    },
    {
      "cell_type": "code",
      "metadata": {
        "colab": {
          "base_uri": "https://localhost:8080/",
          "height": 142
        },
        "id": "EB4jiJVDwZl4",
        "outputId": "4b81845d-3242-4609-d098-e38fa916c291"
      },
      "source": [
        "# Setting up our evaluation metrics so we can compare\n",
        "r2s = [lr_r2, rf_r2, knn_r2]\n",
        "rmses = [lr_rmse, rf_rmse, knn_rmse]\n",
        "model_names = ['Linear Regression', 'Random Forest', 'K-Nearest Neighbors']\n",
        "# Putting all of the metrics together\n",
        "comparison = pd.DataFrame(zip(model_names, r2s, rmses),\n",
        "                           columns=['Model', 'R-Squared', 'RMSE'])\n",
        "comparison"
      ],
      "execution_count": null,
      "outputs": [
        {
          "output_type": "execute_result",
          "data": {
            "text/html": [
              "<div>\n",
              "<style scoped>\n",
              "    .dataframe tbody tr th:only-of-type {\n",
              "        vertical-align: middle;\n",
              "    }\n",
              "\n",
              "    .dataframe tbody tr th {\n",
              "        vertical-align: top;\n",
              "    }\n",
              "\n",
              "    .dataframe thead th {\n",
              "        text-align: right;\n",
              "    }\n",
              "</style>\n",
              "<table border=\"1\" class=\"dataframe\">\n",
              "  <thead>\n",
              "    <tr style=\"text-align: right;\">\n",
              "      <th></th>\n",
              "      <th>Model</th>\n",
              "      <th>R-Squared</th>\n",
              "      <th>RMSE</th>\n",
              "    </tr>\n",
              "  </thead>\n",
              "  <tbody>\n",
              "    <tr>\n",
              "      <th>0</th>\n",
              "      <td>Linear Regression</td>\n",
              "      <td>0.47</td>\n",
              "      <td>462432.76</td>\n",
              "    </tr>\n",
              "    <tr>\n",
              "      <th>1</th>\n",
              "      <td>Random Forest</td>\n",
              "      <td>0.57</td>\n",
              "      <td>417774.22</td>\n",
              "    </tr>\n",
              "    <tr>\n",
              "      <th>2</th>\n",
              "      <td>K-Nearest Neighbors</td>\n",
              "      <td>0.71</td>\n",
              "      <td>341903.77</td>\n",
              "    </tr>\n",
              "  </tbody>\n",
              "</table>\n",
              "</div>"
            ],
            "text/plain": [
              "                 Model  R-Squared      RMSE\n",
              "0    Linear Regression       0.47 462432.76\n",
              "1        Random Forest       0.57 417774.22\n",
              "2  K-Nearest Neighbors       0.71 341903.77"
            ]
          },
          "metadata": {},
          "execution_count": 62
        }
      ]
    },
    {
      "cell_type": "markdown",
      "metadata": {
        "id": "pwNpKqdy44d2"
      },
      "source": [
        "# Prediction"
      ]
    },
    {
      "cell_type": "code",
      "metadata": {
        "colab": {
          "base_uri": "https://localhost:8080/",
          "height": 309
        },
        "id": "y9LZIrdG456j",
        "outputId": "ef6f2494-f6c5-42f7-c1ea-04f0445b596d"
      },
      "source": [
        "no_price_df.head()"
      ],
      "execution_count": null,
      "outputs": [
        {
          "output_type": "execute_result",
          "data": {
            "text/html": [
              "<div>\n",
              "<style scoped>\n",
              "    .dataframe tbody tr th:only-of-type {\n",
              "        vertical-align: middle;\n",
              "    }\n",
              "\n",
              "    .dataframe tbody tr th {\n",
              "        vertical-align: top;\n",
              "    }\n",
              "\n",
              "    .dataframe thead th {\n",
              "        text-align: right;\n",
              "    }\n",
              "</style>\n",
              "<table border=\"1\" class=\"dataframe\">\n",
              "  <thead>\n",
              "    <tr style=\"text-align: right;\">\n",
              "      <th></th>\n",
              "      <th>lot_size_sf</th>\n",
              "      <th>city</th>\n",
              "      <th>deed_date</th>\n",
              "      <th>lat</th>\n",
              "      <th>lon</th>\n",
              "      <th>build_yr</th>\n",
              "      <th>build_size_sf</th>\n",
              "      <th>patio_ct</th>\n",
              "      <th>patio_type</th>\n",
              "      <th>wall_type</th>\n",
              "      <th>roof_type</th>\n",
              "      <th>bath_fixtures_ct</th>\n",
              "      <th>parking_type</th>\n",
              "    </tr>\n",
              "  </thead>\n",
              "  <tbody>\n",
              "    <tr>\n",
              "      <th>4</th>\n",
              "      <td>22101</td>\n",
              "      <td>PHOENIX</td>\n",
              "      <td>04/10/2019</td>\n",
              "      <td>33.35</td>\n",
              "      <td>-112.16</td>\n",
              "      <td>2007.00</td>\n",
              "      <td>5588.00</td>\n",
              "      <td>2.00</td>\n",
              "      <td>Covered Slab</td>\n",
              "      <td>Frame Wood</td>\n",
              "      <td>Concrete Tile</td>\n",
              "      <td>14.00</td>\n",
              "      <td>GR</td>\n",
              "    </tr>\n",
              "    <tr>\n",
              "      <th>12</th>\n",
              "      <td>6000</td>\n",
              "      <td>SURPRISE</td>\n",
              "      <td>01/16/2020</td>\n",
              "      <td>33.63</td>\n",
              "      <td>-112.45</td>\n",
              "      <td>2012.00</td>\n",
              "      <td>1734.00</td>\n",
              "      <td>2.00</td>\n",
              "      <td>Covered Slab</td>\n",
              "      <td>Frame Stucco</td>\n",
              "      <td>Concrete Tile</td>\n",
              "      <td>6.00</td>\n",
              "      <td>GR</td>\n",
              "    </tr>\n",
              "    <tr>\n",
              "      <th>15</th>\n",
              "      <td>6000</td>\n",
              "      <td>SURPRISE</td>\n",
              "      <td>10/31/2016</td>\n",
              "      <td>33.63</td>\n",
              "      <td>-112.45</td>\n",
              "      <td>2012.00</td>\n",
              "      <td>2645.00</td>\n",
              "      <td>4.00</td>\n",
              "      <td>Covered Slab</td>\n",
              "      <td>Frame Stucco</td>\n",
              "      <td>Concrete Tile</td>\n",
              "      <td>10.00</td>\n",
              "      <td>GR</td>\n",
              "    </tr>\n",
              "    <tr>\n",
              "      <th>21</th>\n",
              "      <td>6000</td>\n",
              "      <td>SURPRISE</td>\n",
              "      <td>07/06/2016</td>\n",
              "      <td>33.63</td>\n",
              "      <td>-112.46</td>\n",
              "      <td>2009.00</td>\n",
              "      <td>1571.00</td>\n",
              "      <td>1.00</td>\n",
              "      <td>Covered</td>\n",
              "      <td>Frame Stucco</td>\n",
              "      <td>Concrete Tile</td>\n",
              "      <td>8.00</td>\n",
              "      <td>GR</td>\n",
              "    </tr>\n",
              "    <tr>\n",
              "      <th>22</th>\n",
              "      <td>6000</td>\n",
              "      <td>SURPRISE</td>\n",
              "      <td>04/14/2021</td>\n",
              "      <td>33.63</td>\n",
              "      <td>-112.46</td>\n",
              "      <td>2010.00</td>\n",
              "      <td>1795.00</td>\n",
              "      <td>1.00</td>\n",
              "      <td>Covered</td>\n",
              "      <td>Frame Stucco</td>\n",
              "      <td>Concrete Tile</td>\n",
              "      <td>8.00</td>\n",
              "      <td>GR</td>\n",
              "    </tr>\n",
              "  </tbody>\n",
              "</table>\n",
              "</div>"
            ],
            "text/plain": [
              "    lot_size_sf      city  ... bath_fixtures_ct  parking_type\n",
              "4         22101   PHOENIX  ...            14.00            GR\n",
              "12         6000  SURPRISE  ...             6.00            GR\n",
              "15         6000  SURPRISE  ...            10.00            GR\n",
              "21         6000  SURPRISE  ...             8.00            GR\n",
              "22         6000  SURPRISE  ...             8.00            GR\n",
              "\n",
              "[5 rows x 13 columns]"
            ]
          },
          "metadata": {},
          "execution_count": 63
        }
      ]
    },
    {
      "cell_type": "code",
      "metadata": {
        "id": "qFywwfAH5MDc"
      },
      "source": [
        "n_city = pd.get_dummies(no_price_df['city'])\n",
        "n_patio_type = pd.get_dummies(no_price_df['patio_type'])\n",
        "n_wall_type = pd.get_dummies(no_price_df['wall_type'])\n",
        "n_roof_type = pd.get_dummies(no_price_df['roof_type'])\n",
        "n_parking_type = pd.get_dummies(no_price_df['parking_type'])"
      ],
      "execution_count": null,
      "outputs": []
    },
    {
      "cell_type": "code",
      "metadata": {
        "id": "Drntqfox5bFY"
      },
      "source": [
        "no_price_master_df = pd.concat([no_price_df, n_city, n_patio_type, n_wall_type, n_roof_type, n_parking_type], axis = 1)"
      ],
      "execution_count": null,
      "outputs": []
    },
    {
      "cell_type": "code",
      "metadata": {
        "id": "GWJH_D6d5yFs"
      },
      "source": [
        "n_numeric_data = no_price_master_df.select_dtypes(include='number')"
      ],
      "execution_count": null,
      "outputs": []
    },
    {
      "cell_type": "code",
      "metadata": {
        "colab": {
          "base_uri": "https://localhost:8080/"
        },
        "id": "hLbF3nv56pfd",
        "outputId": "efff0539-8374-4fa7-a99b-4938da2936ea"
      },
      "source": [
        "X.columns"
      ],
      "execution_count": null,
      "outputs": [
        {
          "output_type": "execute_result",
          "data": {
            "text/plain": [
              "Index(['lot_size_sf', 'lat', 'lon', 'build_yr', 'build_size_sf', 'patio_ct',\n",
              "       'bath_fixtures_ct', 'AVONDALE', 'BUCKEYE', 'CAREFREE', 'CAVE CREEK',\n",
              "       'CHANDLER', 'FOUNTAIN HILLS', 'GILBERT', 'GLENDALE', 'GOODYEAR',\n",
              "       'LITCHFIELD PARK', 'MESA', 'NO CITY/TOWN', 'PARADISE VALLEY', 'PEORIA',\n",
              "       'PHOENIX', 'QUEEN CREEK', 'SCOTTSDALE', 'SURPRISE', 'TEMPE', 'TOLLESON',\n",
              "       'WICKENBURG', 'Covered', 'Covered Slab', 'None', 'Slab',\n",
              "       '8\" Painted Block', '8\" Stucco', 'Adobe', 'Brick', 'Frame Brick',\n",
              "       'Frame Stucco', 'Frame Wood', 'Other', 'Slump Block',\n",
              "       'Asbestos Shingle', 'Asphalt Shingle', 'Built Up', 'Concrete Tile',\n",
              "       'Metal', 'Roll', 'Slate', 'Tile', 'Wood', 'CP', 'GR'],\n",
              "      dtype='object')"
            ]
          },
          "metadata": {},
          "execution_count": 67
        }
      ]
    },
    {
      "cell_type": "code",
      "metadata": {
        "colab": {
          "base_uri": "https://localhost:8080/"
        },
        "id": "EpJ4fKPWHQip",
        "outputId": "cd9f82ac-2c3b-4e31-8456-ef6c6749dee1"
      },
      "source": [
        "n_numeric_data.columns"
      ],
      "execution_count": null,
      "outputs": [
        {
          "output_type": "execute_result",
          "data": {
            "text/plain": [
              "Index(['lot_size_sf', 'lat', 'lon', 'build_yr', 'build_size_sf', 'patio_ct',\n",
              "       'bath_fixtures_ct', 'AVONDALE', 'BUCKEYE', 'CAREFREE', 'CAVE CREEK',\n",
              "       'CHANDLER', 'FOUNTAIN HILLS', 'GILBERT', 'GLENDALE', 'GOODYEAR',\n",
              "       'GUADALUPE', 'LITCHFIELD PARK', 'MESA', 'NO CITY/TOWN',\n",
              "       'PARADISE VALLEY', 'PEORIA', 'PHOENIX', 'QUEEN CREEK', 'SCOTTSDALE',\n",
              "       'SURPRISE', 'TEMPE', 'TOLLESON', 'WICKENBURG', 'Covered',\n",
              "       'Covered Slab', 'None', 'Slab', '8\" Painted Block', '8\" Stucco',\n",
              "       'Adobe', 'Brick', 'Foam Block', 'Frame Brick', 'Frame Stucco',\n",
              "       'Frame Wood', 'Other', 'Slump Block', 'Stone', 'Asbestos Shingle',\n",
              "       'Asphalt Shingle', 'Built Up', 'Concrete Tile', 'Galvanized', 'Metal',\n",
              "       'Roll', 'Slate', 'Tile', 'Wood', 'CP', 'GR'],\n",
              "      dtype='object')"
            ]
          },
          "metadata": {},
          "execution_count": 68
        }
      ]
    },
    {
      "cell_type": "code",
      "metadata": {
        "id": "3ZSFeXf5-6RK"
      },
      "source": [
        "n_numeric_data.drop(['GUADALUPE', 'Foam Block', 'Galvanized', 'Stone'], axis = 1, inplace = True)"
      ],
      "execution_count": null,
      "outputs": []
    },
    {
      "cell_type": "code",
      "metadata": {
        "colab": {
          "base_uri": "https://localhost:8080/"
        },
        "id": "l9OX4SBA77n_",
        "outputId": "454e7003-6f1c-4cd3-834f-68189003caa6"
      },
      "source": [
        "n_numeric_data.columns"
      ],
      "execution_count": null,
      "outputs": [
        {
          "output_type": "execute_result",
          "data": {
            "text/plain": [
              "Index(['lot_size_sf', 'lat', 'lon', 'build_yr', 'build_size_sf', 'patio_ct',\n",
              "       'bath_fixtures_ct', 'AVONDALE', 'BUCKEYE', 'CAREFREE', 'CAVE CREEK',\n",
              "       'CHANDLER', 'FOUNTAIN HILLS', 'GILBERT', 'GLENDALE', 'GOODYEAR',\n",
              "       'LITCHFIELD PARK', 'MESA', 'NO CITY/TOWN', 'PARADISE VALLEY', 'PEORIA',\n",
              "       'PHOENIX', 'QUEEN CREEK', 'SCOTTSDALE', 'SURPRISE', 'TEMPE', 'TOLLESON',\n",
              "       'WICKENBURG', 'Covered', 'Covered Slab', 'None', 'Slab',\n",
              "       '8\" Painted Block', '8\" Stucco', 'Adobe', 'Brick', 'Frame Brick',\n",
              "       'Frame Stucco', 'Frame Wood', 'Other', 'Slump Block',\n",
              "       'Asbestos Shingle', 'Asphalt Shingle', 'Built Up', 'Concrete Tile',\n",
              "       'Metal', 'Roll', 'Slate', 'Tile', 'Wood', 'CP', 'GR'],\n",
              "      dtype='object')"
            ]
          },
          "metadata": {},
          "execution_count": 70
        }
      ]
    },
    {
      "cell_type": "code",
      "metadata": {
        "id": "pNabmRJu_2ZV"
      },
      "source": [
        "no_price_df['pred_price_usd'] = knn.predict(n_numeric_data)"
      ],
      "execution_count": null,
      "outputs": []
    },
    {
      "cell_type": "code",
      "metadata": {
        "id": "6Tu4m82OAYlQ"
      },
      "source": [
        "no_price_df.to_csv('price_predictions.csv')"
      ],
      "execution_count": null,
      "outputs": []
    }
  ]
}